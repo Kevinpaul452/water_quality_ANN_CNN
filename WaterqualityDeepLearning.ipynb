{
  "cells": [
    {
      "cell_type": "markdown",
      "source": [
        "# **Water Quality Classification Using ANN and CNN**"
      ],
      "metadata": {
        "id": "qAPSzmhE8AIj"
      }
    },
    {
      "cell_type": "markdown",
      "source": [
        "Water quality is a major concern for many businesses, including agriculture, industrial, and public health. Monitoring the quality of bodies of water such as lakes, rivers, and seas is critical for identifying and addressing any pollution or contamination issues that may impact aquatic life, human health, and the environment.\n",
        "\n",
        "Artificial Neural Networks (ANN) and Convolutional Neural Networks (CNN) are strong Deep learning methods for analysing water quality data and detecting trends or anomalies. Based on past data, ANN can be used to forecast activities such as assessing water quality characteristics. CNNs can also be used to do the water quality classification.\n",
        "\n",
        "As a result, applying ANN and CNN approaches to water quality data can provide significant insights to water management enterprises and organisations such as environmental monitoring agencies, municipalities, and private water firms. These findings can assist decision-makers in making informed decisions about how to allocate resources, solve water quality issues, and ultimately improve the overall health of aquatic ecosystems."
      ],
      "metadata": {
        "id": "wzuKri-F8Jyl"
      }
    },
    {
      "cell_type": "markdown",
      "source": [
        "**IMPORTING LIBRARIES**"
      ],
      "metadata": {
        "id": "KvapuGSo8q33"
      }
    },
    {
      "cell_type": "code",
      "execution_count": 1,
      "metadata": {
        "id": "ZyHiYW8kP5P4"
      },
      "outputs": [],
      "source": [
        "import matplotlib.pyplot as plt\n",
        "import numpy as np\n",
        "import pandas as pd\n",
        "import seaborn as sns\n",
        "from sklearn.preprocessing import LabelEncoder\n",
        "from sklearn.preprocessing import MinMaxScaler\n",
        "from sklearn.model_selection import cross_val_score\n",
        "from sklearn.model_selection import KFold\n",
        "from sklearn.pipeline import Pipeline\n",
        "import tensorflow as tf\n",
        "from imblearn.over_sampling import SMOTE"
      ]
    },
    {
      "cell_type": "code",
      "execution_count": 2,
      "metadata": {
        "colab": {
          "base_uri": "https://localhost:8080/",
          "height": 36
        },
        "id": "vRgTWrhqVBVo",
        "outputId": "7407a2ee-8c17-4293-80d2-b49ee2d5ffd8"
      },
      "outputs": [
        {
          "output_type": "execute_result",
          "data": {
            "text/plain": [
              "'2.12.0'"
            ],
            "application/vnd.google.colaboratory.intrinsic+json": {
              "type": "string"
            }
          },
          "metadata": {},
          "execution_count": 2
        }
      ],
      "source": [
        "tf.__version__"
      ]
    },
    {
      "cell_type": "code",
      "execution_count": 3,
      "metadata": {
        "id": "nvthM2wvVR0h"
      },
      "outputs": [],
      "source": [
        "df = pd.read_csv('/content/WATERQUALITY.csv')"
      ]
    },
    {
      "cell_type": "code",
      "execution_count": 4,
      "metadata": {
        "colab": {
          "base_uri": "https://localhost:8080/"
        },
        "id": "cOlfJeDFXCqJ",
        "outputId": "765133d4-395a-4843-d1ce-4219c95dd81d"
      },
      "outputs": [
        {
          "output_type": "execute_result",
          "data": {
            "text/plain": [
              "aluminium      float64\n",
              "ammonia         object\n",
              "arsenic        float64\n",
              "barium         float64\n",
              "cadmium        float64\n",
              "chloramine     float64\n",
              "chromium       float64\n",
              "copper         float64\n",
              "flouride       float64\n",
              "bacteria       float64\n",
              "viruses        float64\n",
              "lead           float64\n",
              "nitrates       float64\n",
              "nitrites       float64\n",
              "mercury        float64\n",
              "perchlorate    float64\n",
              "radium         float64\n",
              "selenium       float64\n",
              "silver         float64\n",
              "uranium        float64\n",
              "is_safe         object\n",
              "dtype: object"
            ]
          },
          "metadata": {},
          "execution_count": 4
        }
      ],
      "source": [
        "df.dtypes"
      ]
    },
    {
      "cell_type": "code",
      "source": [
        "df.shape"
      ],
      "metadata": {
        "colab": {
          "base_uri": "https://localhost:8080/"
        },
        "id": "e_ObHgPAx8Rk",
        "outputId": "1b6c0789-8694-4e15-dd03-4e8850c4618d"
      },
      "execution_count": 5,
      "outputs": [
        {
          "output_type": "execute_result",
          "data": {
            "text/plain": [
              "(7999, 21)"
            ]
          },
          "metadata": {},
          "execution_count": 5
        }
      ]
    },
    {
      "cell_type": "markdown",
      "source": [
        "**PRE-PROCESSING**"
      ],
      "metadata": {
        "id": "4ujXAhmk89xL"
      }
    },
    {
      "cell_type": "code",
      "source": [
        "df.info()"
      ],
      "metadata": {
        "colab": {
          "base_uri": "https://localhost:8080/"
        },
        "id": "HWHJoyEByFPe",
        "outputId": "ce77b2d1-e37e-486e-b498-6365d45deacb"
      },
      "execution_count": 6,
      "outputs": [
        {
          "output_type": "stream",
          "name": "stdout",
          "text": [
            "<class 'pandas.core.frame.DataFrame'>\n",
            "RangeIndex: 7999 entries, 0 to 7998\n",
            "Data columns (total 21 columns):\n",
            " #   Column       Non-Null Count  Dtype  \n",
            "---  ------       --------------  -----  \n",
            " 0   aluminium    7999 non-null   float64\n",
            " 1   ammonia      7999 non-null   object \n",
            " 2   arsenic      7999 non-null   float64\n",
            " 3   barium       7999 non-null   float64\n",
            " 4   cadmium      7999 non-null   float64\n",
            " 5   chloramine   7999 non-null   float64\n",
            " 6   chromium     7999 non-null   float64\n",
            " 7   copper       7999 non-null   float64\n",
            " 8   flouride     7999 non-null   float64\n",
            " 9   bacteria     7999 non-null   float64\n",
            " 10  viruses      7999 non-null   float64\n",
            " 11  lead         7999 non-null   float64\n",
            " 12  nitrates     7999 non-null   float64\n",
            " 13  nitrites     7999 non-null   float64\n",
            " 14  mercury      7999 non-null   float64\n",
            " 15  perchlorate  7999 non-null   float64\n",
            " 16  radium       7999 non-null   float64\n",
            " 17  selenium     7999 non-null   float64\n",
            " 18  silver       7999 non-null   float64\n",
            " 19  uranium      7999 non-null   float64\n",
            " 20  is_safe      7999 non-null   object \n",
            "dtypes: float64(19), object(2)\n",
            "memory usage: 1.3+ MB\n"
          ]
        }
      ]
    },
    {
      "cell_type": "markdown",
      "source": [
        "### The function finds all occurrences of the '#NUM!' string in the DataFrame df and replaces them with NaN values"
      ],
      "metadata": {
        "id": "aS79varf9YO3"
      }
    },
    {
      "cell_type": "code",
      "source": [
        "df = df.replace({'#NUM!':np.nan})\n",
        "df.head()"
      ],
      "metadata": {
        "colab": {
          "base_uri": "https://localhost:8080/",
          "height": 299
        },
        "id": "qcMkP6TbygqS",
        "outputId": "97dc4bc7-706e-4948-9dd2-d671065cadd8"
      },
      "execution_count": 7,
      "outputs": [
        {
          "output_type": "execute_result",
          "data": {
            "text/plain": [
              "   aluminium ammonia  arsenic  barium  cadmium  chloramine  chromium  copper  \\\n",
              "0       1.65    9.08     0.04    2.85    0.007        0.35      0.83    0.17   \n",
              "1       2.32   21.16     0.01    3.31    0.002        5.28      0.68    0.66   \n",
              "2       1.01   14.02     0.04    0.58    0.008        4.24      0.53    0.02   \n",
              "3       1.36   11.33     0.04    2.96    0.001        7.23      0.03    1.66   \n",
              "4       0.92   24.33     0.03    0.20    0.006        2.67      0.69    0.57   \n",
              "\n",
              "   flouride  bacteria  ...   lead  nitrates  nitrites  mercury  perchlorate  \\\n",
              "0      0.05      0.20  ...  0.054     16.08      1.13    0.007        37.75   \n",
              "1      0.90      0.65  ...  0.100      2.01      1.93    0.003        32.26   \n",
              "2      0.99      0.05  ...  0.078     14.16      1.11    0.006        50.28   \n",
              "3      1.08      0.71  ...  0.016      1.41      1.29    0.004         9.12   \n",
              "4      0.61      0.13  ...  0.117      6.74      1.11    0.003        16.90   \n",
              "\n",
              "   radium  selenium  silver  uranium  is_safe  \n",
              "0    6.78      0.08    0.34     0.02        1  \n",
              "1    3.21      0.08    0.27     0.05        1  \n",
              "2    7.07      0.07    0.44     0.01        0  \n",
              "3    1.72      0.02    0.45     0.05        1  \n",
              "4    2.41      0.02    0.06     0.02        1  \n",
              "\n",
              "[5 rows x 21 columns]"
            ],
            "text/html": [
              "\n",
              "  <div id=\"df-79a9354c-15cb-4d44-ab9c-25d3ccd96490\">\n",
              "    <div class=\"colab-df-container\">\n",
              "      <div>\n",
              "<style scoped>\n",
              "    .dataframe tbody tr th:only-of-type {\n",
              "        vertical-align: middle;\n",
              "    }\n",
              "\n",
              "    .dataframe tbody tr th {\n",
              "        vertical-align: top;\n",
              "    }\n",
              "\n",
              "    .dataframe thead th {\n",
              "        text-align: right;\n",
              "    }\n",
              "</style>\n",
              "<table border=\"1\" class=\"dataframe\">\n",
              "  <thead>\n",
              "    <tr style=\"text-align: right;\">\n",
              "      <th></th>\n",
              "      <th>aluminium</th>\n",
              "      <th>ammonia</th>\n",
              "      <th>arsenic</th>\n",
              "      <th>barium</th>\n",
              "      <th>cadmium</th>\n",
              "      <th>chloramine</th>\n",
              "      <th>chromium</th>\n",
              "      <th>copper</th>\n",
              "      <th>flouride</th>\n",
              "      <th>bacteria</th>\n",
              "      <th>...</th>\n",
              "      <th>lead</th>\n",
              "      <th>nitrates</th>\n",
              "      <th>nitrites</th>\n",
              "      <th>mercury</th>\n",
              "      <th>perchlorate</th>\n",
              "      <th>radium</th>\n",
              "      <th>selenium</th>\n",
              "      <th>silver</th>\n",
              "      <th>uranium</th>\n",
              "      <th>is_safe</th>\n",
              "    </tr>\n",
              "  </thead>\n",
              "  <tbody>\n",
              "    <tr>\n",
              "      <th>0</th>\n",
              "      <td>1.65</td>\n",
              "      <td>9.08</td>\n",
              "      <td>0.04</td>\n",
              "      <td>2.85</td>\n",
              "      <td>0.007</td>\n",
              "      <td>0.35</td>\n",
              "      <td>0.83</td>\n",
              "      <td>0.17</td>\n",
              "      <td>0.05</td>\n",
              "      <td>0.20</td>\n",
              "      <td>...</td>\n",
              "      <td>0.054</td>\n",
              "      <td>16.08</td>\n",
              "      <td>1.13</td>\n",
              "      <td>0.007</td>\n",
              "      <td>37.75</td>\n",
              "      <td>6.78</td>\n",
              "      <td>0.08</td>\n",
              "      <td>0.34</td>\n",
              "      <td>0.02</td>\n",
              "      <td>1</td>\n",
              "    </tr>\n",
              "    <tr>\n",
              "      <th>1</th>\n",
              "      <td>2.32</td>\n",
              "      <td>21.16</td>\n",
              "      <td>0.01</td>\n",
              "      <td>3.31</td>\n",
              "      <td>0.002</td>\n",
              "      <td>5.28</td>\n",
              "      <td>0.68</td>\n",
              "      <td>0.66</td>\n",
              "      <td>0.90</td>\n",
              "      <td>0.65</td>\n",
              "      <td>...</td>\n",
              "      <td>0.100</td>\n",
              "      <td>2.01</td>\n",
              "      <td>1.93</td>\n",
              "      <td>0.003</td>\n",
              "      <td>32.26</td>\n",
              "      <td>3.21</td>\n",
              "      <td>0.08</td>\n",
              "      <td>0.27</td>\n",
              "      <td>0.05</td>\n",
              "      <td>1</td>\n",
              "    </tr>\n",
              "    <tr>\n",
              "      <th>2</th>\n",
              "      <td>1.01</td>\n",
              "      <td>14.02</td>\n",
              "      <td>0.04</td>\n",
              "      <td>0.58</td>\n",
              "      <td>0.008</td>\n",
              "      <td>4.24</td>\n",
              "      <td>0.53</td>\n",
              "      <td>0.02</td>\n",
              "      <td>0.99</td>\n",
              "      <td>0.05</td>\n",
              "      <td>...</td>\n",
              "      <td>0.078</td>\n",
              "      <td>14.16</td>\n",
              "      <td>1.11</td>\n",
              "      <td>0.006</td>\n",
              "      <td>50.28</td>\n",
              "      <td>7.07</td>\n",
              "      <td>0.07</td>\n",
              "      <td>0.44</td>\n",
              "      <td>0.01</td>\n",
              "      <td>0</td>\n",
              "    </tr>\n",
              "    <tr>\n",
              "      <th>3</th>\n",
              "      <td>1.36</td>\n",
              "      <td>11.33</td>\n",
              "      <td>0.04</td>\n",
              "      <td>2.96</td>\n",
              "      <td>0.001</td>\n",
              "      <td>7.23</td>\n",
              "      <td>0.03</td>\n",
              "      <td>1.66</td>\n",
              "      <td>1.08</td>\n",
              "      <td>0.71</td>\n",
              "      <td>...</td>\n",
              "      <td>0.016</td>\n",
              "      <td>1.41</td>\n",
              "      <td>1.29</td>\n",
              "      <td>0.004</td>\n",
              "      <td>9.12</td>\n",
              "      <td>1.72</td>\n",
              "      <td>0.02</td>\n",
              "      <td>0.45</td>\n",
              "      <td>0.05</td>\n",
              "      <td>1</td>\n",
              "    </tr>\n",
              "    <tr>\n",
              "      <th>4</th>\n",
              "      <td>0.92</td>\n",
              "      <td>24.33</td>\n",
              "      <td>0.03</td>\n",
              "      <td>0.20</td>\n",
              "      <td>0.006</td>\n",
              "      <td>2.67</td>\n",
              "      <td>0.69</td>\n",
              "      <td>0.57</td>\n",
              "      <td>0.61</td>\n",
              "      <td>0.13</td>\n",
              "      <td>...</td>\n",
              "      <td>0.117</td>\n",
              "      <td>6.74</td>\n",
              "      <td>1.11</td>\n",
              "      <td>0.003</td>\n",
              "      <td>16.90</td>\n",
              "      <td>2.41</td>\n",
              "      <td>0.02</td>\n",
              "      <td>0.06</td>\n",
              "      <td>0.02</td>\n",
              "      <td>1</td>\n",
              "    </tr>\n",
              "  </tbody>\n",
              "</table>\n",
              "<p>5 rows × 21 columns</p>\n",
              "</div>\n",
              "      <button class=\"colab-df-convert\" onclick=\"convertToInteractive('df-79a9354c-15cb-4d44-ab9c-25d3ccd96490')\"\n",
              "              title=\"Convert this dataframe to an interactive table.\"\n",
              "              style=\"display:none;\">\n",
              "        \n",
              "  <svg xmlns=\"http://www.w3.org/2000/svg\" height=\"24px\"viewBox=\"0 0 24 24\"\n",
              "       width=\"24px\">\n",
              "    <path d=\"M0 0h24v24H0V0z\" fill=\"none\"/>\n",
              "    <path d=\"M18.56 5.44l.94 2.06.94-2.06 2.06-.94-2.06-.94-.94-2.06-.94 2.06-2.06.94zm-11 1L8.5 8.5l.94-2.06 2.06-.94-2.06-.94L8.5 2.5l-.94 2.06-2.06.94zm10 10l.94 2.06.94-2.06 2.06-.94-2.06-.94-.94-2.06-.94 2.06-2.06.94z\"/><path d=\"M17.41 7.96l-1.37-1.37c-.4-.4-.92-.59-1.43-.59-.52 0-1.04.2-1.43.59L10.3 9.45l-7.72 7.72c-.78.78-.78 2.05 0 2.83L4 21.41c.39.39.9.59 1.41.59.51 0 1.02-.2 1.41-.59l7.78-7.78 2.81-2.81c.8-.78.8-2.07 0-2.86zM5.41 20L4 18.59l7.72-7.72 1.47 1.35L5.41 20z\"/>\n",
              "  </svg>\n",
              "      </button>\n",
              "      \n",
              "  <style>\n",
              "    .colab-df-container {\n",
              "      display:flex;\n",
              "      flex-wrap:wrap;\n",
              "      gap: 12px;\n",
              "    }\n",
              "\n",
              "    .colab-df-convert {\n",
              "      background-color: #E8F0FE;\n",
              "      border: none;\n",
              "      border-radius: 50%;\n",
              "      cursor: pointer;\n",
              "      display: none;\n",
              "      fill: #1967D2;\n",
              "      height: 32px;\n",
              "      padding: 0 0 0 0;\n",
              "      width: 32px;\n",
              "    }\n",
              "\n",
              "    .colab-df-convert:hover {\n",
              "      background-color: #E2EBFA;\n",
              "      box-shadow: 0px 1px 2px rgba(60, 64, 67, 0.3), 0px 1px 3px 1px rgba(60, 64, 67, 0.15);\n",
              "      fill: #174EA6;\n",
              "    }\n",
              "\n",
              "    [theme=dark] .colab-df-convert {\n",
              "      background-color: #3B4455;\n",
              "      fill: #D2E3FC;\n",
              "    }\n",
              "\n",
              "    [theme=dark] .colab-df-convert:hover {\n",
              "      background-color: #434B5C;\n",
              "      box-shadow: 0px 1px 3px 1px rgba(0, 0, 0, 0.15);\n",
              "      filter: drop-shadow(0px 1px 2px rgba(0, 0, 0, 0.3));\n",
              "      fill: #FFFFFF;\n",
              "    }\n",
              "  </style>\n",
              "\n",
              "      <script>\n",
              "        const buttonEl =\n",
              "          document.querySelector('#df-79a9354c-15cb-4d44-ab9c-25d3ccd96490 button.colab-df-convert');\n",
              "        buttonEl.style.display =\n",
              "          google.colab.kernel.accessAllowed ? 'block' : 'none';\n",
              "\n",
              "        async function convertToInteractive(key) {\n",
              "          const element = document.querySelector('#df-79a9354c-15cb-4d44-ab9c-25d3ccd96490');\n",
              "          const dataTable =\n",
              "            await google.colab.kernel.invokeFunction('convertToInteractive',\n",
              "                                                     [key], {});\n",
              "          if (!dataTable) return;\n",
              "\n",
              "          const docLinkHtml = 'Like what you see? Visit the ' +\n",
              "            '<a target=\"_blank\" href=https://colab.research.google.com/notebooks/data_table.ipynb>data table notebook</a>'\n",
              "            + ' to learn more about interactive tables.';\n",
              "          element.innerHTML = '';\n",
              "          dataTable['output_type'] = 'display_data';\n",
              "          await google.colab.output.renderOutput(dataTable, element);\n",
              "          const docLink = document.createElement('div');\n",
              "          docLink.innerHTML = docLinkHtml;\n",
              "          element.appendChild(docLink);\n",
              "        }\n",
              "      </script>\n",
              "    </div>\n",
              "  </div>\n",
              "  "
            ]
          },
          "metadata": {},
          "execution_count": 7
        }
      ]
    },
    {
      "cell_type": "code",
      "source": [
        "df=df.dropna()"
      ],
      "metadata": {
        "id": "wfKVXonaygmr"
      },
      "execution_count": 8,
      "outputs": []
    },
    {
      "cell_type": "code",
      "source": [
        "df.isnull().sum()"
      ],
      "metadata": {
        "colab": {
          "base_uri": "https://localhost:8080/"
        },
        "id": "K2iKWAWAyggN",
        "outputId": "262ecfd0-dcc5-4324-e249-a7aa5eb189d0"
      },
      "execution_count": 9,
      "outputs": [
        {
          "output_type": "execute_result",
          "data": {
            "text/plain": [
              "aluminium      0\n",
              "ammonia        0\n",
              "arsenic        0\n",
              "barium         0\n",
              "cadmium        0\n",
              "chloramine     0\n",
              "chromium       0\n",
              "copper         0\n",
              "flouride       0\n",
              "bacteria       0\n",
              "viruses        0\n",
              "lead           0\n",
              "nitrates       0\n",
              "nitrites       0\n",
              "mercury        0\n",
              "perchlorate    0\n",
              "radium         0\n",
              "selenium       0\n",
              "silver         0\n",
              "uranium        0\n",
              "is_safe        0\n",
              "dtype: int64"
            ]
          },
          "metadata": {},
          "execution_count": 9
        }
      ]
    },
    {
      "cell_type": "code",
      "source": [
        "df['is_safe'].value_counts()"
      ],
      "metadata": {
        "id": "jDSdvVVsygeT",
        "colab": {
          "base_uri": "https://localhost:8080/"
        },
        "outputId": "9c8aafb2-121e-4115-f418-37f271622552"
      },
      "execution_count": 10,
      "outputs": [
        {
          "output_type": "execute_result",
          "data": {
            "text/plain": [
              "0    7084\n",
              "1     912\n",
              "Name: is_safe, dtype: int64"
            ]
          },
          "metadata": {},
          "execution_count": 10
        }
      ]
    },
    {
      "cell_type": "code",
      "source": [
        "df.info()"
      ],
      "metadata": {
        "id": "7NDKqgnxygbv",
        "colab": {
          "base_uri": "https://localhost:8080/"
        },
        "outputId": "9d8561e1-a412-4d3a-92d2-be054bfd5d4b"
      },
      "execution_count": 11,
      "outputs": [
        {
          "output_type": "stream",
          "name": "stdout",
          "text": [
            "<class 'pandas.core.frame.DataFrame'>\n",
            "Int64Index: 7996 entries, 0 to 7998\n",
            "Data columns (total 21 columns):\n",
            " #   Column       Non-Null Count  Dtype  \n",
            "---  ------       --------------  -----  \n",
            " 0   aluminium    7996 non-null   float64\n",
            " 1   ammonia      7996 non-null   object \n",
            " 2   arsenic      7996 non-null   float64\n",
            " 3   barium       7996 non-null   float64\n",
            " 4   cadmium      7996 non-null   float64\n",
            " 5   chloramine   7996 non-null   float64\n",
            " 6   chromium     7996 non-null   float64\n",
            " 7   copper       7996 non-null   float64\n",
            " 8   flouride     7996 non-null   float64\n",
            " 9   bacteria     7996 non-null   float64\n",
            " 10  viruses      7996 non-null   float64\n",
            " 11  lead         7996 non-null   float64\n",
            " 12  nitrates     7996 non-null   float64\n",
            " 13  nitrites     7996 non-null   float64\n",
            " 14  mercury      7996 non-null   float64\n",
            " 15  perchlorate  7996 non-null   float64\n",
            " 16  radium       7996 non-null   float64\n",
            " 17  selenium     7996 non-null   float64\n",
            " 18  silver       7996 non-null   float64\n",
            " 19  uranium      7996 non-null   float64\n",
            " 20  is_safe      7996 non-null   object \n",
            "dtypes: float64(19), object(2)\n",
            "memory usage: 1.3+ MB\n"
          ]
        }
      ]
    },
    {
      "cell_type": "markdown",
      "source": [
        "### Converts the data type of the column named 'ammonia' from its original type to a floating-point numeric type and also convering the data type of the column named 'is_safe' from its original type to a integer numeric type"
      ],
      "metadata": {
        "id": "V4C_zdpT-Gh-"
      }
    },
    {
      "cell_type": "code",
      "source": [
        "df['ammonia']=df['ammonia'].astype(float)\n",
        "df['is_safe']=df['is_safe'].astype(int)"
      ],
      "metadata": {
        "id": "JmvtaHGdygaB"
      },
      "execution_count": 12,
      "outputs": []
    },
    {
      "cell_type": "code",
      "source": [
        "df.info()"
      ],
      "metadata": {
        "id": "iGbJRjtOygWw",
        "colab": {
          "base_uri": "https://localhost:8080/"
        },
        "outputId": "9dbf6d12-0a6b-492a-f830-f326c4305b60"
      },
      "execution_count": 13,
      "outputs": [
        {
          "output_type": "stream",
          "name": "stdout",
          "text": [
            "<class 'pandas.core.frame.DataFrame'>\n",
            "Int64Index: 7996 entries, 0 to 7998\n",
            "Data columns (total 21 columns):\n",
            " #   Column       Non-Null Count  Dtype  \n",
            "---  ------       --------------  -----  \n",
            " 0   aluminium    7996 non-null   float64\n",
            " 1   ammonia      7996 non-null   float64\n",
            " 2   arsenic      7996 non-null   float64\n",
            " 3   barium       7996 non-null   float64\n",
            " 4   cadmium      7996 non-null   float64\n",
            " 5   chloramine   7996 non-null   float64\n",
            " 6   chromium     7996 non-null   float64\n",
            " 7   copper       7996 non-null   float64\n",
            " 8   flouride     7996 non-null   float64\n",
            " 9   bacteria     7996 non-null   float64\n",
            " 10  viruses      7996 non-null   float64\n",
            " 11  lead         7996 non-null   float64\n",
            " 12  nitrates     7996 non-null   float64\n",
            " 13  nitrites     7996 non-null   float64\n",
            " 14  mercury      7996 non-null   float64\n",
            " 15  perchlorate  7996 non-null   float64\n",
            " 16  radium       7996 non-null   float64\n",
            " 17  selenium     7996 non-null   float64\n",
            " 18  silver       7996 non-null   float64\n",
            " 19  uranium      7996 non-null   float64\n",
            " 20  is_safe      7996 non-null   int64  \n",
            "dtypes: float64(20), int64(1)\n",
            "memory usage: 1.3 MB\n"
          ]
        }
      ]
    },
    {
      "cell_type": "markdown",
      "source": [
        "### Making two separate datasets, one containing the features (independent variables) and the other containing the target variable (dependent variable)"
      ],
      "metadata": {
        "id": "96_FF3Bl-pwl"
      }
    },
    {
      "cell_type": "code",
      "source": [
        "X = df.drop('is_safe', axis='columns')\n",
        "y = df['is_safe']"
      ],
      "metadata": {
        "id": "rRKqgyXJzy_T"
      },
      "execution_count": 14,
      "outputs": []
    },
    {
      "cell_type": "code",
      "source": [
        "y.value_counts()"
      ],
      "metadata": {
        "colab": {
          "base_uri": "https://localhost:8080/"
        },
        "id": "BDyUFx_PJJC_",
        "outputId": "83d9e495-5250-484a-fe82-ca9b3b8e56d6"
      },
      "execution_count": 15,
      "outputs": [
        {
          "output_type": "execute_result",
          "data": {
            "text/plain": [
              "0    7084\n",
              "1     912\n",
              "Name: is_safe, dtype: int64"
            ]
          },
          "metadata": {},
          "execution_count": 15
        }
      ]
    },
    {
      "cell_type": "markdown",
      "source": [
        "### To oversample the minority class in the target variable using the Synthetic Minority Over-sampling Technique (SMOTE)"
      ],
      "metadata": {
        "id": "V7VrSTsz_GX2"
      }
    },
    {
      "cell_type": "code",
      "source": [
        "#Using the SMOTE library to oversample the data by randomly creating data \n",
        "sm = SMOTE(random_state=27)\n",
        "X,y = sm.fit_resample(X,y)"
      ],
      "metadata": {
        "id": "MnJd9jeFO5xa"
      },
      "execution_count": 16,
      "outputs": []
    },
    {
      "cell_type": "markdown",
      "source": [
        "### The fit_resample() method of the SMOTE algorithm resamples the dataset by generating synthetic samples of the minority class using interpolation of neighboring samples in the feature space"
      ],
      "metadata": {
        "id": "Vqo2u-On_xAn"
      }
    },
    {
      "cell_type": "code",
      "source": [
        "from sklearn.model_selection import train_test_split\n",
        "X_train, X_test, y_train, y_test = train_test_split(X, y, test_size = 0.2, random_state = 0)"
      ],
      "metadata": {
        "id": "DwO_ptbDygUo"
      },
      "execution_count": 17,
      "outputs": []
    },
    {
      "cell_type": "code",
      "source": [
        "y_test.shape"
      ],
      "metadata": {
        "colab": {
          "base_uri": "https://localhost:8080/"
        },
        "id": "QkA02Md1G62-",
        "outputId": "3af0bd1d-4c18-4063-896a-1fb8c961ce9c"
      },
      "execution_count": 18,
      "outputs": [
        {
          "output_type": "execute_result",
          "data": {
            "text/plain": [
              "(2834,)"
            ]
          },
          "metadata": {},
          "execution_count": 18
        }
      ]
    },
    {
      "cell_type": "markdown",
      "source": [
        "### To ensure that all feature variables have a similar scale, which can help improve the performance of Deep learning models"
      ],
      "metadata": {
        "id": "Zbjnx72_AE4F"
      }
    },
    {
      "cell_type": "code",
      "source": [
        "from sklearn.preprocessing import StandardScaler\n",
        "sc = StandardScaler()\n",
        "X_train = sc.fit_transform(X_train)\n",
        "X_test = sc.transform(X_test)"
      ],
      "metadata": {
        "id": "raHfvSg_ygS1"
      },
      "execution_count": 19,
      "outputs": []
    },
    {
      "cell_type": "markdown",
      "source": [
        "# **Building the ANN**"
      ],
      "metadata": {
        "id": "1XHassb60Nxl"
      }
    },
    {
      "cell_type": "markdown",
      "source": [
        "The structure and function of the human brain inspired the development of Artificial Neural Networks (ANN), a form of Deep learning algorithm. ANNs are capable of learning and making predictions based on complex data patterns. Each neuron receives input signals, processes them, and sends output signals to other neurons in the network.\n",
        "\n",
        "When applying ANN to the Water quality dataset, the input layer of the network would consist of neurons representing the various characteristics of the water samples, such as aluminium, ammonia, bacteria, virus, among others. There would be as many neurons in the input layer as there are features in the dataset.\n"
      ],
      "metadata": {
        "id": "KRwJJgXJAO4n"
      }
    },
    {
      "cell_type": "markdown",
      "source": [
        "# Initializing the ANN"
      ],
      "metadata": {
        "id": "kG2og0tp0P1h"
      }
    },
    {
      "cell_type": "code",
      "source": [
        "ann = tf.keras.models.Sequential()"
      ],
      "metadata": {
        "id": "pw2dvrXkygQ9"
      },
      "execution_count": 20,
      "outputs": []
    },
    {
      "cell_type": "markdown",
      "source": [
        "# Adding the input layer and the first hidden layer"
      ],
      "metadata": {
        "id": "xl7KxTzA0a6F"
      }
    },
    {
      "cell_type": "code",
      "source": [
        "ann.add(tf.keras.layers.Dense(units=6, activation='relu'))"
      ],
      "metadata": {
        "id": "XTZ5XCsLygPA"
      },
      "execution_count": 21,
      "outputs": []
    },
    {
      "cell_type": "markdown",
      "source": [
        "# Adding the second hidden layer"
      ],
      "metadata": {
        "id": "OkbvCSrD0g0y"
      }
    },
    {
      "cell_type": "code",
      "source": [
        "ann.add(tf.keras.layers.Dense(units=6, activation='relu'))"
      ],
      "metadata": {
        "id": "05CsDtFBygND"
      },
      "execution_count": 22,
      "outputs": []
    },
    {
      "cell_type": "markdown",
      "source": [
        "# Adding the output layer"
      ],
      "metadata": {
        "id": "fXSBg98b0kgL"
      }
    },
    {
      "cell_type": "code",
      "source": [
        "ann.add(tf.keras.layers.Dense(units=1, activation='sigmoid'))"
      ],
      "metadata": {
        "id": "cfBPCl5QygK0"
      },
      "execution_count": 23,
      "outputs": []
    },
    {
      "cell_type": "markdown",
      "source": [
        "# **Training the ANN**"
      ],
      "metadata": {
        "id": "DFn-jCwX0qRa"
      }
    },
    {
      "cell_type": "markdown",
      "source": [
        "# Compiling the ANN"
      ],
      "metadata": {
        "id": "jUkoChdc0u9p"
      }
    },
    {
      "cell_type": "markdown",
      "source": [
        "* optimizer: Training loss function minimization algorithm. 'Adam', a prominent stochastic optimisation approach, efficiently adjusts neural network weights during training.\n",
        "\n",
        "* loss: The training loss function used to compare predicted outputs to true labels. For binary classification issues, 'binary_crossentropy' is used.\n",
        "\n",
        "* metrics: Model performance metrics for training and testing. The list comprises only \"accuracy,\" a frequent classification parameter.\n"
      ],
      "metadata": {
        "id": "3njVd3ltDlFQ"
      }
    },
    {
      "cell_type": "code",
      "source": [
        "ann.compile(optimizer = 'adam', loss = 'binary_crossentropy', metrics = ['accuracy'])"
      ],
      "metadata": {
        "id": "BBicb-hGygIw"
      },
      "execution_count": 24,
      "outputs": []
    },
    {
      "cell_type": "markdown",
      "source": [
        "# Training the ANN on the Training set"
      ],
      "metadata": {
        "id": "AcAm_3I701dA"
      }
    },
    {
      "cell_type": "code",
      "source": [
        "ann.fit(X_train, y_train, batch_size = 32, epochs = 100)"
      ],
      "metadata": {
        "colab": {
          "base_uri": "https://localhost:8080/"
        },
        "id": "qAQND0G603aJ",
        "outputId": "65376e67-1e35-45c0-dfc5-db1fc84bdbb6"
      },
      "execution_count": 25,
      "outputs": [
        {
          "output_type": "stream",
          "name": "stdout",
          "text": [
            "Epoch 1/100\n",
            "355/355 [==============================] - 4s 2ms/step - loss: 0.5367 - accuracy: 0.7420\n",
            "Epoch 2/100\n",
            "355/355 [==============================] - 1s 3ms/step - loss: 0.4302 - accuracy: 0.7895\n",
            "Epoch 3/100\n",
            "355/355 [==============================] - 1s 2ms/step - loss: 0.3814 - accuracy: 0.8061\n",
            "Epoch 4/100\n",
            "355/355 [==============================] - 1s 3ms/step - loss: 0.3458 - accuracy: 0.8351\n",
            "Epoch 5/100\n",
            "355/355 [==============================] - 1s 3ms/step - loss: 0.3192 - accuracy: 0.8585\n",
            "Epoch 6/100\n",
            "355/355 [==============================] - 1s 2ms/step - loss: 0.3001 - accuracy: 0.8686\n",
            "Epoch 7/100\n",
            "355/355 [==============================] - 1s 2ms/step - loss: 0.2832 - accuracy: 0.8778\n",
            "Epoch 8/100\n",
            "355/355 [==============================] - 1s 2ms/step - loss: 0.2676 - accuracy: 0.8828\n",
            "Epoch 9/100\n",
            "355/355 [==============================] - 1s 2ms/step - loss: 0.2539 - accuracy: 0.8908\n",
            "Epoch 10/100\n",
            "355/355 [==============================] - 1s 2ms/step - loss: 0.2399 - accuracy: 0.8965\n",
            "Epoch 11/100\n",
            "355/355 [==============================] - 1s 2ms/step - loss: 0.2284 - accuracy: 0.9008\n",
            "Epoch 12/100\n",
            "355/355 [==============================] - 1s 3ms/step - loss: 0.2201 - accuracy: 0.9067\n",
            "Epoch 13/100\n",
            "355/355 [==============================] - 2s 5ms/step - loss: 0.2131 - accuracy: 0.9099\n",
            "Epoch 14/100\n",
            "355/355 [==============================] - 1s 2ms/step - loss: 0.2090 - accuracy: 0.9112\n",
            "Epoch 15/100\n",
            "355/355 [==============================] - 1s 2ms/step - loss: 0.2038 - accuracy: 0.9154\n",
            "Epoch 16/100\n",
            "355/355 [==============================] - 1s 2ms/step - loss: 0.2002 - accuracy: 0.9172\n",
            "Epoch 17/100\n",
            "355/355 [==============================] - 1s 2ms/step - loss: 0.1971 - accuracy: 0.9188\n",
            "Epoch 18/100\n",
            "355/355 [==============================] - 1s 2ms/step - loss: 0.1941 - accuracy: 0.9187\n",
            "Epoch 19/100\n",
            "355/355 [==============================] - 0s 1ms/step - loss: 0.1914 - accuracy: 0.9216\n",
            "Epoch 20/100\n",
            "355/355 [==============================] - 0s 1ms/step - loss: 0.1893 - accuracy: 0.9223\n",
            "Epoch 21/100\n",
            "355/355 [==============================] - 0s 1ms/step - loss: 0.1868 - accuracy: 0.9232\n",
            "Epoch 22/100\n",
            "355/355 [==============================] - 0s 1ms/step - loss: 0.1841 - accuracy: 0.9261\n",
            "Epoch 23/100\n",
            "355/355 [==============================] - 0s 1ms/step - loss: 0.1829 - accuracy: 0.9248\n",
            "Epoch 24/100\n",
            "355/355 [==============================] - 0s 1ms/step - loss: 0.1813 - accuracy: 0.9267\n",
            "Epoch 25/100\n",
            "355/355 [==============================] - 0s 1ms/step - loss: 0.1797 - accuracy: 0.9283\n",
            "Epoch 26/100\n",
            "355/355 [==============================] - 0s 1ms/step - loss: 0.1787 - accuracy: 0.9269\n",
            "Epoch 27/100\n",
            "355/355 [==============================] - 0s 1ms/step - loss: 0.1768 - accuracy: 0.9287\n",
            "Epoch 28/100\n",
            "355/355 [==============================] - 0s 1ms/step - loss: 0.1756 - accuracy: 0.9280\n",
            "Epoch 29/100\n",
            "355/355 [==============================] - 0s 1ms/step - loss: 0.1752 - accuracy: 0.9293\n",
            "Epoch 30/100\n",
            "355/355 [==============================] - 0s 1ms/step - loss: 0.1745 - accuracy: 0.9294\n",
            "Epoch 31/100\n",
            "355/355 [==============================] - 0s 1ms/step - loss: 0.1734 - accuracy: 0.9287\n",
            "Epoch 32/100\n",
            "355/355 [==============================] - 1s 1ms/step - loss: 0.1722 - accuracy: 0.9290\n",
            "Epoch 33/100\n",
            "355/355 [==============================] - 1s 2ms/step - loss: 0.1716 - accuracy: 0.9290\n",
            "Epoch 34/100\n",
            "355/355 [==============================] - 1s 2ms/step - loss: 0.1710 - accuracy: 0.9285\n",
            "Epoch 35/100\n",
            "355/355 [==============================] - 0s 1ms/step - loss: 0.1713 - accuracy: 0.9302\n",
            "Epoch 36/100\n",
            "355/355 [==============================] - 0s 1ms/step - loss: 0.1703 - accuracy: 0.9309\n",
            "Epoch 37/100\n",
            "355/355 [==============================] - 0s 1ms/step - loss: 0.1694 - accuracy: 0.9318\n",
            "Epoch 38/100\n",
            "355/355 [==============================] - 0s 1ms/step - loss: 0.1689 - accuracy: 0.9310\n",
            "Epoch 39/100\n",
            "355/355 [==============================] - 0s 1ms/step - loss: 0.1691 - accuracy: 0.9307\n",
            "Epoch 40/100\n",
            "355/355 [==============================] - 0s 1ms/step - loss: 0.1671 - accuracy: 0.9320\n",
            "Epoch 41/100\n",
            "355/355 [==============================] - 0s 1ms/step - loss: 0.1675 - accuracy: 0.9318\n",
            "Epoch 42/100\n",
            "355/355 [==============================] - 0s 1ms/step - loss: 0.1672 - accuracy: 0.9312\n",
            "Epoch 43/100\n",
            "355/355 [==============================] - 0s 1ms/step - loss: 0.1667 - accuracy: 0.9322\n",
            "Epoch 44/100\n",
            "355/355 [==============================] - 0s 1ms/step - loss: 0.1664 - accuracy: 0.9323\n",
            "Epoch 45/100\n",
            "355/355 [==============================] - 0s 1ms/step - loss: 0.1654 - accuracy: 0.9326\n",
            "Epoch 46/100\n",
            "355/355 [==============================] - 0s 1ms/step - loss: 0.1652 - accuracy: 0.9331\n",
            "Epoch 47/100\n",
            "355/355 [==============================] - 0s 1ms/step - loss: 0.1647 - accuracy: 0.9341\n",
            "Epoch 48/100\n",
            "355/355 [==============================] - 0s 1ms/step - loss: 0.1647 - accuracy: 0.9336\n",
            "Epoch 49/100\n",
            "355/355 [==============================] - 0s 1ms/step - loss: 0.1646 - accuracy: 0.9340\n",
            "Epoch 50/100\n",
            "355/355 [==============================] - 0s 1ms/step - loss: 0.1639 - accuracy: 0.9337\n",
            "Epoch 51/100\n",
            "355/355 [==============================] - 0s 1ms/step - loss: 0.1639 - accuracy: 0.9357\n",
            "Epoch 52/100\n",
            "355/355 [==============================] - 0s 1ms/step - loss: 0.1640 - accuracy: 0.9336\n",
            "Epoch 53/100\n",
            "355/355 [==============================] - 0s 1ms/step - loss: 0.1641 - accuracy: 0.9329\n",
            "Epoch 54/100\n",
            "355/355 [==============================] - 0s 1ms/step - loss: 0.1629 - accuracy: 0.9344\n",
            "Epoch 55/100\n",
            "355/355 [==============================] - 0s 1ms/step - loss: 0.1633 - accuracy: 0.9329\n",
            "Epoch 56/100\n",
            "355/355 [==============================] - 0s 1ms/step - loss: 0.1624 - accuracy: 0.9333\n",
            "Epoch 57/100\n",
            "355/355 [==============================] - 0s 1ms/step - loss: 0.1624 - accuracy: 0.9347\n",
            "Epoch 58/100\n",
            "355/355 [==============================] - 0s 1ms/step - loss: 0.1629 - accuracy: 0.9344\n",
            "Epoch 59/100\n",
            "355/355 [==============================] - 1s 2ms/step - loss: 0.1626 - accuracy: 0.9349\n",
            "Epoch 60/100\n",
            "355/355 [==============================] - 1s 2ms/step - loss: 0.1616 - accuracy: 0.9344\n",
            "Epoch 61/100\n",
            "355/355 [==============================] - 1s 2ms/step - loss: 0.1615 - accuracy: 0.9340\n",
            "Epoch 62/100\n",
            "355/355 [==============================] - 0s 1ms/step - loss: 0.1615 - accuracy: 0.9337\n",
            "Epoch 63/100\n",
            "355/355 [==============================] - 0s 1ms/step - loss: 0.1611 - accuracy: 0.9321\n",
            "Epoch 64/100\n",
            "355/355 [==============================] - 0s 1ms/step - loss: 0.1605 - accuracy: 0.9347\n",
            "Epoch 65/100\n",
            "355/355 [==============================] - 0s 1ms/step - loss: 0.1614 - accuracy: 0.9339\n",
            "Epoch 66/100\n",
            "355/355 [==============================] - 0s 1ms/step - loss: 0.1613 - accuracy: 0.9331\n",
            "Epoch 67/100\n",
            "355/355 [==============================] - 0s 1ms/step - loss: 0.1609 - accuracy: 0.9347\n",
            "Epoch 68/100\n",
            "355/355 [==============================] - 0s 1ms/step - loss: 0.1602 - accuracy: 0.9345\n",
            "Epoch 69/100\n",
            "355/355 [==============================] - 0s 1ms/step - loss: 0.1616 - accuracy: 0.9347\n",
            "Epoch 70/100\n",
            "355/355 [==============================] - 0s 1ms/step - loss: 0.1605 - accuracy: 0.9330\n",
            "Epoch 71/100\n",
            "355/355 [==============================] - 0s 1ms/step - loss: 0.1611 - accuracy: 0.9340\n",
            "Epoch 72/100\n",
            "355/355 [==============================] - 0s 1ms/step - loss: 0.1601 - accuracy: 0.9353\n",
            "Epoch 73/100\n",
            "355/355 [==============================] - 0s 1ms/step - loss: 0.1600 - accuracy: 0.9353\n",
            "Epoch 74/100\n",
            "355/355 [==============================] - 0s 1ms/step - loss: 0.1609 - accuracy: 0.9343\n",
            "Epoch 75/100\n",
            "355/355 [==============================] - 0s 1ms/step - loss: 0.1598 - accuracy: 0.9336\n",
            "Epoch 76/100\n",
            "355/355 [==============================] - 0s 1ms/step - loss: 0.1599 - accuracy: 0.9355\n",
            "Epoch 77/100\n",
            "355/355 [==============================] - 0s 1ms/step - loss: 0.1604 - accuracy: 0.9353\n",
            "Epoch 78/100\n",
            "355/355 [==============================] - 0s 1ms/step - loss: 0.1600 - accuracy: 0.9331\n",
            "Epoch 79/100\n",
            "355/355 [==============================] - 0s 1ms/step - loss: 0.1602 - accuracy: 0.9352\n",
            "Epoch 80/100\n",
            "355/355 [==============================] - 0s 1ms/step - loss: 0.1595 - accuracy: 0.9346\n",
            "Epoch 81/100\n",
            "355/355 [==============================] - 0s 1ms/step - loss: 0.1602 - accuracy: 0.9352\n",
            "Epoch 82/100\n",
            "355/355 [==============================] - 0s 1ms/step - loss: 0.1599 - accuracy: 0.9350\n",
            "Epoch 83/100\n",
            "355/355 [==============================] - 0s 1ms/step - loss: 0.1592 - accuracy: 0.9349\n",
            "Epoch 84/100\n",
            "355/355 [==============================] - 0s 1ms/step - loss: 0.1599 - accuracy: 0.9349\n",
            "Epoch 85/100\n",
            "355/355 [==============================] - 1s 1ms/step - loss: 0.1592 - accuracy: 0.9357\n",
            "Epoch 86/100\n",
            "355/355 [==============================] - 1s 1ms/step - loss: 0.1591 - accuracy: 0.9366\n",
            "Epoch 87/100\n",
            "355/355 [==============================] - 1s 2ms/step - loss: 0.1589 - accuracy: 0.9352\n",
            "Epoch 88/100\n",
            "355/355 [==============================] - 1s 1ms/step - loss: 0.1593 - accuracy: 0.9339\n",
            "Epoch 89/100\n",
            "355/355 [==============================] - 0s 1ms/step - loss: 0.1585 - accuracy: 0.9354\n",
            "Epoch 90/100\n",
            "355/355 [==============================] - 0s 1ms/step - loss: 0.1584 - accuracy: 0.9337\n",
            "Epoch 91/100\n",
            "355/355 [==============================] - 0s 1ms/step - loss: 0.1578 - accuracy: 0.9354\n",
            "Epoch 92/100\n",
            "355/355 [==============================] - 0s 1ms/step - loss: 0.1587 - accuracy: 0.9355\n",
            "Epoch 93/100\n",
            "355/355 [==============================] - 0s 1ms/step - loss: 0.1589 - accuracy: 0.9352\n",
            "Epoch 94/100\n",
            "355/355 [==============================] - 0s 1ms/step - loss: 0.1577 - accuracy: 0.9344\n",
            "Epoch 95/100\n",
            "355/355 [==============================] - 0s 1ms/step - loss: 0.1579 - accuracy: 0.9336\n",
            "Epoch 96/100\n",
            "355/355 [==============================] - 0s 1ms/step - loss: 0.1582 - accuracy: 0.9344\n",
            "Epoch 97/100\n",
            "355/355 [==============================] - 0s 1ms/step - loss: 0.1578 - accuracy: 0.9336\n",
            "Epoch 98/100\n",
            "355/355 [==============================] - 0s 1ms/step - loss: 0.1577 - accuracy: 0.9352\n",
            "Epoch 99/100\n",
            "355/355 [==============================] - 0s 1ms/step - loss: 0.1575 - accuracy: 0.9351\n",
            "Epoch 100/100\n",
            "355/355 [==============================] - 0s 1ms/step - loss: 0.1573 - accuracy: 0.9344\n"
          ]
        },
        {
          "output_type": "execute_result",
          "data": {
            "text/plain": [
              "<keras.callbacks.History at 0x7f0fcb896ec0>"
            ]
          },
          "metadata": {},
          "execution_count": 25
        }
      ]
    },
    {
      "cell_type": "code",
      "source": [
        "print(ann.predict(sc.transform([[1.36, 11.33, 0.04, 2.96, 0.001, 7.23, 0.03, 1.66, 1.08, 0.71, 0.71, 0.016,1.41,1.29,0.004,9.12,1.72,0.02,0.45,0.05]])) > 0.5)"
      ],
      "metadata": {
        "colab": {
          "base_uri": "https://localhost:8080/"
        },
        "id": "jSSh_RJPeOGM",
        "outputId": "9740233f-fc3d-4615-ee7b-da88e8d46438"
      },
      "execution_count": 26,
      "outputs": [
        {
          "output_type": "stream",
          "name": "stdout",
          "text": [
            "1/1 [==============================] - 0s 69ms/step\n",
            "[[ True]]\n"
          ]
        },
        {
          "output_type": "stream",
          "name": "stderr",
          "text": [
            "/usr/local/lib/python3.10/dist-packages/sklearn/base.py:439: UserWarning: X does not have valid feature names, but StandardScaler was fitted with feature names\n",
            "  warnings.warn(\n"
          ]
        }
      ]
    },
    {
      "cell_type": "markdown",
      "source": [
        "# Predicting the Test set results"
      ],
      "metadata": {
        "id": "wG8FFhtUf_eg"
      }
    },
    {
      "cell_type": "code",
      "source": [
        "y_pred = ann.predict(X_test)\n",
        "y_pred = (y_pred > 0.5)"
      ],
      "metadata": {
        "colab": {
          "base_uri": "https://localhost:8080/"
        },
        "id": "X22vSXaff-ff",
        "outputId": "dab5c492-af1a-488b-be9d-0bbe3464fb66"
      },
      "execution_count": 27,
      "outputs": [
        {
          "output_type": "stream",
          "name": "stdout",
          "text": [
            "89/89 [==============================] - 0s 785us/step\n"
          ]
        }
      ]
    },
    {
      "cell_type": "markdown",
      "source": [
        "# Making the Confusion Matrix"
      ],
      "metadata": {
        "id": "4QQsQxQY1U9g"
      }
    },
    {
      "cell_type": "code",
      "source": [
        "from sklearn.metrics import accuracy_score, recall_score,precision_score, f1_score, classification_report"
      ],
      "metadata": {
        "id": "PTEstPLqhZnN"
      },
      "execution_count": 28,
      "outputs": []
    },
    {
      "cell_type": "code",
      "source": [
        "print(classification_report(y_test, y_pred))"
      ],
      "metadata": {
        "id": "cLG2JS2d03RB",
        "colab": {
          "base_uri": "https://localhost:8080/"
        },
        "outputId": "2742ac96-4582-4154-b4f1-08f98ef68c98"
      },
      "execution_count": 29,
      "outputs": [
        {
          "output_type": "stream",
          "name": "stdout",
          "text": [
            "              precision    recall  f1-score   support\n",
            "\n",
            "           0       0.94      0.91      0.93      1381\n",
            "           1       0.92      0.95      0.93      1453\n",
            "\n",
            "    accuracy                           0.93      2834\n",
            "   macro avg       0.93      0.93      0.93      2834\n",
            "weighted avg       0.93      0.93      0.93      2834\n",
            "\n"
          ]
        }
      ]
    },
    {
      "cell_type": "code",
      "source": [
        "from sklearn.metrics import confusion_matrix, accuracy_score\n",
        "cm = confusion_matrix(y_test, y_pred)\n",
        "print(cm)\n",
        "accuracy_score(y_test, y_pred)"
      ],
      "metadata": {
        "colab": {
          "base_uri": "https://localhost:8080/"
        },
        "id": "bv90gHtmgR6b",
        "outputId": "c978d45d-58ed-4ff7-b3f2-600e42e2aa19"
      },
      "execution_count": 30,
      "outputs": [
        {
          "output_type": "stream",
          "name": "stdout",
          "text": [
            "[[1263  118]\n",
            " [  78 1375]]\n"
          ]
        },
        {
          "output_type": "execute_result",
          "data": {
            "text/plain": [
              "0.9308398023994354"
            ]
          },
          "metadata": {},
          "execution_count": 30
        }
      ]
    },
    {
      "cell_type": "code",
      "source": [
        "sns.heatmap(cm,annot=True)"
      ],
      "metadata": {
        "id": "lt3UUM_703Ok",
        "colab": {
          "base_uri": "https://localhost:8080/",
          "height": 447
        },
        "outputId": "3d9ee281-c45b-4e04-d0ae-f0965f921af8"
      },
      "execution_count": 31,
      "outputs": [
        {
          "output_type": "execute_result",
          "data": {
            "text/plain": [
              "<Axes: >"
            ]
          },
          "metadata": {},
          "execution_count": 31
        },
        {
          "output_type": "display_data",
          "data": {
            "text/plain": [
              "<Figure size 640x480 with 2 Axes>"
            ],
            "image/png": "[encoded data removed]"
          },
          "metadata": {}
        }
      ]
    },
    {
      "cell_type": "markdown",
      "source": [
        "**Strengths:**\n",
        "\n",
        "* ANNs can handle many input variables and detect complex nonlinear water quality parameter relationships.\n",
        "* They handle noisy data and generalise well to new data.\n",
        "* For adaptive modelling, ANNs can learn from data and improve.\n",
        "* Optimisation methods can train ANNs to accurately predict water quality.\n",
        "\n",
        "**Weaknesses**:\n",
        "\n",
        "* If the model is too complex or there is not enough training data, ANNs can overfit and perform poorly on new data.\n",
        "* Building and training ANNs requires a lot of data and computational power.\n",
        "* Since an ANN model is a black box, it's hard to understand how it predicts.\n",
        "* Missing or incorrect data may negatively impact ANN performance.\n",
        "\n",
        "\n",
        "\n",
        "\n"
      ],
      "metadata": {
        "id": "AO-1GArwwVZ0"
      }
    },
    {
      "cell_type": "markdown",
      "source": [
        "# **Convolutional Neural Network**"
      ],
      "metadata": {
        "id": "yPmJprur7cJR"
      }
    },
    {
      "cell_type": "markdown",
      "source": [
        "CNNs are a type of deep learning algorithm that is often used to process images and signals, but they can also be used to analyse relational datasets like the Water quality dataset.\n",
        "\n",
        "A CNN has a number of layers called convolutional layers, pooling layers, and fully connected layers. The convolutional layers use a set of filters to separate edges, corners, and forms from the data that comes in. By downsampling, the pooling layers lower the number of dimensions of the extracted features. This helps to avoid overfitting and makes the network run faster. Lastly, the fully linked layers take the extracted features and use a set of weights to make predictions based on the patterns they have learned.\n",
        "\n",
        "When CNN was used on the Water quality dataset, the input layer of the network would be a two-dimensional matrix with the samples as rows and the water quality traits as columns. This matrix would be sent to the convolutional layers. The convolutional layers would then use a set of filters on the input data to find patterns and relationships between the features.\n"
      ],
      "metadata": {
        "id": "vuaIEtwOEGsg"
      }
    },
    {
      "cell_type": "markdown",
      "source": [
        "# **Classification with CNN**"
      ],
      "metadata": {
        "id": "nWz67K24j98M"
      }
    },
    {
      "cell_type": "markdown",
      "source": [
        "# **CNN MODEL 1**"
      ],
      "metadata": {
        "id": "XyQeyTopR7Q3"
      }
    },
    {
      "cell_type": "markdown",
      "source": [
        "**IMPORTING LIBRARIES**"
      ],
      "metadata": {
        "id": "bzwUHK2KRsu8"
      }
    },
    {
      "cell_type": "code",
      "source": [
        "from keras.models import Sequential\n",
        "from keras.layers import Dense, Conv1D, Flatten, MaxPooling1D\n",
        "from sklearn.model_selection import train_test_split\n",
        "from sklearn.metrics import confusion_matrix\n",
        "from sklearn.datasets import load_iris\n",
        " \n",
        "from numpy import unique"
      ],
      "metadata": {
        "id": "KZSalDkC03MX"
      },
      "execution_count": 32,
      "outputs": []
    },
    {
      "cell_type": "code",
      "source": [
        "from keras.wrappers.scikit_learn import KerasClassifier\n",
        "from sklearn.model_selection import GridSearchCV\n",
        "\n",
        "from keras.models import Sequential\n",
        "from keras.layers import Dense, Activation, Embedding, Flatten, LeakyReLU, BatchNormalization, Dropout, Conv1D\n",
        "from keras.activations import relu, sigmoid\n"
      ],
      "metadata": {
        "id": "ylQwnkD1z7YB"
      },
      "execution_count": 33,
      "outputs": []
    },
    {
      "cell_type": "code",
      "source": [
        "df.head()"
      ],
      "metadata": {
        "colab": {
          "base_uri": "https://localhost:8080/",
          "height": 299
        },
        "id": "kaXhd9wGmSH7",
        "outputId": "bac16696-d46e-456b-f9c0-8bad08204800"
      },
      "execution_count": 34,
      "outputs": [
        {
          "output_type": "execute_result",
          "data": {
            "text/plain": [
              "   aluminium  ammonia  arsenic  barium  cadmium  chloramine  chromium  copper  \\\n",
              "0       1.65     9.08     0.04    2.85    0.007        0.35      0.83    0.17   \n",
              "1       2.32    21.16     0.01    3.31    0.002        5.28      0.68    0.66   \n",
              "2       1.01    14.02     0.04    0.58    0.008        4.24      0.53    0.02   \n",
              "3       1.36    11.33     0.04    2.96    0.001        7.23      0.03    1.66   \n",
              "4       0.92    24.33     0.03    0.20    0.006        2.67      0.69    0.57   \n",
              "\n",
              "   flouride  bacteria  ...   lead  nitrates  nitrites  mercury  perchlorate  \\\n",
              "0      0.05      0.20  ...  0.054     16.08      1.13    0.007        37.75   \n",
              "1      0.90      0.65  ...  0.100      2.01      1.93    0.003        32.26   \n",
              "2      0.99      0.05  ...  0.078     14.16      1.11    0.006        50.28   \n",
              "3      1.08      0.71  ...  0.016      1.41      1.29    0.004         9.12   \n",
              "4      0.61      0.13  ...  0.117      6.74      1.11    0.003        16.90   \n",
              "\n",
              "   radium  selenium  silver  uranium  is_safe  \n",
              "0    6.78      0.08    0.34     0.02        1  \n",
              "1    3.21      0.08    0.27     0.05        1  \n",
              "2    7.07      0.07    0.44     0.01        0  \n",
              "3    1.72      0.02    0.45     0.05        1  \n",
              "4    2.41      0.02    0.06     0.02        1  \n",
              "\n",
              "[5 rows x 21 columns]"
            ],
            "text/html": [
              "\n",
              "  <div id=\"df-52ea8097-3cd9-4e95-b0e0-8207d041ef2d\">\n",
              "    <div class=\"colab-df-container\">\n",
              "      <div>\n",
              "<style scoped>\n",
              "    .dataframe tbody tr th:only-of-type {\n",
              "        vertical-align: middle;\n",
              "    }\n",
              "\n",
              "    .dataframe tbody tr th {\n",
              "        vertical-align: top;\n",
              "    }\n",
              "\n",
              "    .dataframe thead th {\n",
              "        text-align: right;\n",
              "    }\n",
              "</style>\n",
              "<table border=\"1\" class=\"dataframe\">\n",
              "  <thead>\n",
              "    <tr style=\"text-align: right;\">\n",
              "      <th></th>\n",
              "      <th>aluminium</th>\n",
              "      <th>ammonia</th>\n",
              "      <th>arsenic</th>\n",
              "      <th>barium</th>\n",
              "      <th>cadmium</th>\n",
              "      <th>chloramine</th>\n",
              "      <th>chromium</th>\n",
              "      <th>copper</th>\n",
              "      <th>flouride</th>\n",
              "      <th>bacteria</th>\n",
              "      <th>...</th>\n",
              "      <th>lead</th>\n",
              "      <th>nitrates</th>\n",
              "      <th>nitrites</th>\n",
              "      <th>mercury</th>\n",
              "      <th>perchlorate</th>\n",
              "      <th>radium</th>\n",
              "      <th>selenium</th>\n",
              "      <th>silver</th>\n",
              "      <th>uranium</th>\n",
              "      <th>is_safe</th>\n",
              "    </tr>\n",
              "  </thead>\n",
              "  <tbody>\n",
              "    <tr>\n",
              "      <th>0</th>\n",
              "      <td>1.65</td>\n",
              "      <td>9.08</td>\n",
              "      <td>0.04</td>\n",
              "      <td>2.85</td>\n",
              "      <td>0.007</td>\n",
              "      <td>0.35</td>\n",
              "      <td>0.83</td>\n",
              "      <td>0.17</td>\n",
              "      <td>0.05</td>\n",
              "      <td>0.20</td>\n",
              "      <td>...</td>\n",
              "      <td>0.054</td>\n",
              "      <td>16.08</td>\n",
              "      <td>1.13</td>\n",
              "      <td>0.007</td>\n",
              "      <td>37.75</td>\n",
              "      <td>6.78</td>\n",
              "      <td>0.08</td>\n",
              "      <td>0.34</td>\n",
              "      <td>0.02</td>\n",
              "      <td>1</td>\n",
              "    </tr>\n",
              "    <tr>\n",
              "      <th>1</th>\n",
              "      <td>2.32</td>\n",
              "      <td>21.16</td>\n",
              "      <td>0.01</td>\n",
              "      <td>3.31</td>\n",
              "      <td>0.002</td>\n",
              "      <td>5.28</td>\n",
              "      <td>0.68</td>\n",
              "      <td>0.66</td>\n",
              "      <td>0.90</td>\n",
              "      <td>0.65</td>\n",
              "      <td>...</td>\n",
              "      <td>0.100</td>\n",
              "      <td>2.01</td>\n",
              "      <td>1.93</td>\n",
              "      <td>0.003</td>\n",
              "      <td>32.26</td>\n",
              "      <td>3.21</td>\n",
              "      <td>0.08</td>\n",
              "      <td>0.27</td>\n",
              "      <td>0.05</td>\n",
              "      <td>1</td>\n",
              "    </tr>\n",
              "    <tr>\n",
              "      <th>2</th>\n",
              "      <td>1.01</td>\n",
              "      <td>14.02</td>\n",
              "      <td>0.04</td>\n",
              "      <td>0.58</td>\n",
              "      <td>0.008</td>\n",
              "      <td>4.24</td>\n",
              "      <td>0.53</td>\n",
              "      <td>0.02</td>\n",
              "      <td>0.99</td>\n",
              "      <td>0.05</td>\n",
              "      <td>...</td>\n",
              "      <td>0.078</td>\n",
              "      <td>14.16</td>\n",
              "      <td>1.11</td>\n",
              "      <td>0.006</td>\n",
              "      <td>50.28</td>\n",
              "      <td>7.07</td>\n",
              "      <td>0.07</td>\n",
              "      <td>0.44</td>\n",
              "      <td>0.01</td>\n",
              "      <td>0</td>\n",
              "    </tr>\n",
              "    <tr>\n",
              "      <th>3</th>\n",
              "      <td>1.36</td>\n",
              "      <td>11.33</td>\n",
              "      <td>0.04</td>\n",
              "      <td>2.96</td>\n",
              "      <td>0.001</td>\n",
              "      <td>7.23</td>\n",
              "      <td>0.03</td>\n",
              "      <td>1.66</td>\n",
              "      <td>1.08</td>\n",
              "      <td>0.71</td>\n",
              "      <td>...</td>\n",
              "      <td>0.016</td>\n",
              "      <td>1.41</td>\n",
              "      <td>1.29</td>\n",
              "      <td>0.004</td>\n",
              "      <td>9.12</td>\n",
              "      <td>1.72</td>\n",
              "      <td>0.02</td>\n",
              "      <td>0.45</td>\n",
              "      <td>0.05</td>\n",
              "      <td>1</td>\n",
              "    </tr>\n",
              "    <tr>\n",
              "      <th>4</th>\n",
              "      <td>0.92</td>\n",
              "      <td>24.33</td>\n",
              "      <td>0.03</td>\n",
              "      <td>0.20</td>\n",
              "      <td>0.006</td>\n",
              "      <td>2.67</td>\n",
              "      <td>0.69</td>\n",
              "      <td>0.57</td>\n",
              "      <td>0.61</td>\n",
              "      <td>0.13</td>\n",
              "      <td>...</td>\n",
              "      <td>0.117</td>\n",
              "      <td>6.74</td>\n",
              "      <td>1.11</td>\n",
              "      <td>0.003</td>\n",
              "      <td>16.90</td>\n",
              "      <td>2.41</td>\n",
              "      <td>0.02</td>\n",
              "      <td>0.06</td>\n",
              "      <td>0.02</td>\n",
              "      <td>1</td>\n",
              "    </tr>\n",
              "  </tbody>\n",
              "</table>\n",
              "<p>5 rows × 21 columns</p>\n",
              "</div>\n",
              "      <button class=\"colab-df-convert\" onclick=\"convertToInteractive('df-52ea8097-3cd9-4e95-b0e0-8207d041ef2d')\"\n",
              "              title=\"Convert this dataframe to an interactive table.\"\n",
              "              style=\"display:none;\">\n",
              "        \n",
              "  <svg xmlns=\"http://www.w3.org/2000/svg\" height=\"24px\"viewBox=\"0 0 24 24\"\n",
              "       width=\"24px\">\n",
              "    <path d=\"M0 0h24v24H0V0z\" fill=\"none\"/>\n",
              "    <path d=\"M18.56 5.44l.94 2.06.94-2.06 2.06-.94-2.06-.94-.94-2.06-.94 2.06-2.06.94zm-11 1L8.5 8.5l.94-2.06 2.06-.94-2.06-.94L8.5 2.5l-.94 2.06-2.06.94zm10 10l.94 2.06.94-2.06 2.06-.94-2.06-.94-.94-2.06-.94 2.06-2.06.94z\"/><path d=\"M17.41 7.96l-1.37-1.37c-.4-.4-.92-.59-1.43-.59-.52 0-1.04.2-1.43.59L10.3 9.45l-7.72 7.72c-.78.78-.78 2.05 0 2.83L4 21.41c.39.39.9.59 1.41.59.51 0 1.02-.2 1.41-.59l7.78-7.78 2.81-2.81c.8-.78.8-2.07 0-2.86zM5.41 20L4 18.59l7.72-7.72 1.47 1.35L5.41 20z\"/>\n",
              "  </svg>\n",
              "      </button>\n",
              "      \n",
              "  <style>\n",
              "    .colab-df-container {\n",
              "      display:flex;\n",
              "      flex-wrap:wrap;\n",
              "      gap: 12px;\n",
              "    }\n",
              "\n",
              "    .colab-df-convert {\n",
              "      background-color: #E8F0FE;\n",
              "      border: none;\n",
              "      border-radius: 50%;\n",
              "      cursor: pointer;\n",
              "      display: none;\n",
              "      fill: #1967D2;\n",
              "      height: 32px;\n",
              "      padding: 0 0 0 0;\n",
              "      width: 32px;\n",
              "    }\n",
              "\n",
              "    .colab-df-convert:hover {\n",
              "      background-color: #E2EBFA;\n",
              "      box-shadow: 0px 1px 2px rgba(60, 64, 67, 0.3), 0px 1px 3px 1px rgba(60, 64, 67, 0.15);\n",
              "      fill: #174EA6;\n",
              "    }\n",
              "\n",
              "    [theme=dark] .colab-df-convert {\n",
              "      background-color: #3B4455;\n",
              "      fill: #D2E3FC;\n",
              "    }\n",
              "\n",
              "    [theme=dark] .colab-df-convert:hover {\n",
              "      background-color: #434B5C;\n",
              "      box-shadow: 0px 1px 3px 1px rgba(0, 0, 0, 0.15);\n",
              "      filter: drop-shadow(0px 1px 2px rgba(0, 0, 0, 0.3));\n",
              "      fill: #FFFFFF;\n",
              "    }\n",
              "  </style>\n",
              "\n",
              "      <script>\n",
              "        const buttonEl =\n",
              "          document.querySelector('#df-52ea8097-3cd9-4e95-b0e0-8207d041ef2d button.colab-df-convert');\n",
              "        buttonEl.style.display =\n",
              "          google.colab.kernel.accessAllowed ? 'block' : 'none';\n",
              "\n",
              "        async function convertToInteractive(key) {\n",
              "          const element = document.querySelector('#df-52ea8097-3cd9-4e95-b0e0-8207d041ef2d');\n",
              "          const dataTable =\n",
              "            await google.colab.kernel.invokeFunction('convertToInteractive',\n",
              "                                                     [key], {});\n",
              "          if (!dataTable) return;\n",
              "\n",
              "          const docLinkHtml = 'Like what you see? Visit the ' +\n",
              "            '<a target=\"_blank\" href=https://colab.research.google.com/notebooks/data_table.ipynb>data table notebook</a>'\n",
              "            + ' to learn more about interactive tables.';\n",
              "          element.innerHTML = '';\n",
              "          dataTable['output_type'] = 'display_data';\n",
              "          await google.colab.output.renderOutput(dataTable, element);\n",
              "          const docLink = document.createElement('div');\n",
              "          docLink.innerHTML = docLinkHtml;\n",
              "          element.appendChild(docLink);\n",
              "        }\n",
              "      </script>\n",
              "    </div>\n",
              "  </div>\n",
              "  "
            ]
          },
          "metadata": {},
          "execution_count": 34
        }
      ]
    },
    {
      "cell_type": "code",
      "source": [
        "x = df.drop('is_safe', axis='columns')\n",
        "y = df['is_safe']"
      ],
      "metadata": {
        "id": "zGTUOscfmRsV"
      },
      "execution_count": 35,
      "outputs": []
    },
    {
      "cell_type": "code",
      "source": [
        "x.shape"
      ],
      "metadata": {
        "colab": {
          "base_uri": "https://localhost:8080/"
        },
        "id": "gJzklvK7M12w",
        "outputId": "2ca4fa82-991a-439a-d0b8-30133ac62357"
      },
      "execution_count": 36,
      "outputs": [
        {
          "output_type": "execute_result",
          "data": {
            "text/plain": [
              "(7996, 20)"
            ]
          },
          "metadata": {},
          "execution_count": 36
        }
      ]
    },
    {
      "cell_type": "code",
      "source": [
        "#Using the SMOTE library to oversample the data by randomly creating data \n",
        "sm = SMOTE(random_state=27)\n",
        "x,y = sm.fit_resample(x,y)"
      ],
      "metadata": {
        "id": "Hq3bpwIvRIfM"
      },
      "execution_count": 37,
      "outputs": []
    },
    {
      "cell_type": "code",
      "source": [
        "train_x, test_x, train_y, test_y = train_test_split(x, y, test_size=0.30)"
      ],
      "metadata": {
        "id": "ehoRFe9fjquQ"
      },
      "execution_count": 38,
      "outputs": []
    },
    {
      "cell_type": "code",
      "source": [
        "from sklearn.preprocessing import StandardScaler\n",
        "sc = StandardScaler()\n",
        "train_x = sc.fit_transform(train_x)\n",
        "test_x = sc.transform(test_x)"
      ],
      "metadata": {
        "id": "LbB1QFSbRWYT"
      },
      "execution_count": 39,
      "outputs": []
    },
    {
      "cell_type": "code",
      "source": [
        "# Build the model\n",
        "\n",
        "model1 = Sequential()"
      ],
      "metadata": {
        "id": "UiHB12kQkYfX"
      },
      "execution_count": 40,
      "outputs": []
    },
    {
      "cell_type": "markdown",
      "source": [
        "* **Sequential()**: Creates a Sequential model object.\n",
        "\n",
        "* (Conv1D(64,2, activation=\"relu\", input_shape=(20,1))): Adds a 1D convolutional layer with 64 filters of size 2 and ReLU activation function.\n",
        "\n",
        "* (Conv1D(64,2, activation=\"relu\", input_shape=(20,1))): Adds another 1D convolutional layer with the same specifications as the previous layer.\n",
        "\n",
        "* (**MaxPooling1D**()): Adds a 1D max pooling layer to downsample the output of the convolutional layers.\n",
        "\n",
        "* (**Flatten()**): Flattens the output of the previous layer to a 1D array."
      ],
      "metadata": {
        "id": "5V59fZI0SgjR"
      }
    },
    {
      "cell_type": "code",
      "source": [
        "model1 = Sequential()\n",
        "model1.add(Conv1D(64,2, activation=\"relu\", input_shape=(20,1)))\n",
        "model1.add(Conv1D(64,2, activation=\"relu\", input_shape=(20,1))) \n",
        "model1.add(MaxPooling1D())\n",
        "model1.add(Flatten())\n",
        "model1.add(Dense(1, kernel_initializer= 'glorot_normal', activation = 'sigmoid'))\n",
        "model1.compile(loss = 'binary_crossentropy', \n",
        "     optimizer = \"adam\",               \n",
        "              metrics = ['accuracy']) #Adds a fully connected layer with a single output node and sigmoid activation function\n",
        "model1.summary() # Prints a summary of the model architecture, including the number of parameters in each layer"
      ],
      "metadata": {
        "colab": {
          "base_uri": "https://localhost:8080/"
        },
        "id": "RB-mSkltkbap",
        "outputId": "6d8639f3-ddf4-410f-b2c2-59c662f9fb61"
      },
      "execution_count": 41,
      "outputs": [
        {
          "output_type": "stream",
          "name": "stdout",
          "text": [
            "Model: \"sequential_2\"\n",
            "_________________________________________________________________\n",
            " Layer (type)                Output Shape              Param #   \n",
            "=================================================================\n",
            " conv1d (Conv1D)             (None, 19, 64)            192       \n",
            "                                                                 \n",
            " conv1d_1 (Conv1D)           (None, 18, 64)            8256      \n",
            "                                                                 \n",
            " max_pooling1d (MaxPooling1D  (None, 9, 64)            0         \n",
            " )                                                               \n",
            "                                                                 \n",
            " flatten (Flatten)           (None, 576)               0         \n",
            "                                                                 \n",
            " dense_3 (Dense)             (None, 1)                 577       \n",
            "                                                                 \n",
            "=================================================================\n",
            "Total params: 9,025\n",
            "Trainable params: 9,025\n",
            "Non-trainable params: 0\n",
            "_________________________________________________________________\n"
          ]
        }
      ]
    },
    {
      "cell_type": "markdown",
      "source": [
        "* The '**glorot_normal**' initialization method  improves the stability of the training process.\n",
        "* The **sigmoid function** maps any input value to a value between 0 and 1, which can be interpreted as a probability that the input belongs to the positive class (in this case, safe water quality).\n",
        "* The loss parameter is set to '**binary_crossentropy**', which is a common loss function used for binary classification problems.\n",
        "* The optimizer parameter is set to '**adam**', which is a popular optimization algorithm that adapts the learning rate during training to improve the speed and stability of the optimization process."
      ],
      "metadata": {
        "id": "JfmdQCbStZBJ"
      }
    },
    {
      "cell_type": "code",
      "source": [
        "model1.fit(train_x, train_y, batch_size=16,epochs=100 , verbose=0)"
      ],
      "metadata": {
        "colab": {
          "base_uri": "https://localhost:8080/"
        },
        "id": "7r66x2pGkgxk",
        "outputId": "5858673f-5a82-4142-ab92-8dca3e792784"
      },
      "execution_count": 42,
      "outputs": [
        {
          "output_type": "execute_result",
          "data": {
            "text/plain": [
              "<keras.callbacks.History at 0x7f0fb29c34f0>"
            ]
          },
          "metadata": {},
          "execution_count": 42
        }
      ]
    },
    {
      "cell_type": "markdown",
      "source": [
        "### Evaluates the performance of the trained CNN model on a test set of data"
      ],
      "metadata": {
        "id": "NYvejS7XTulX"
      }
    },
    {
      "cell_type": "code",
      "source": [
        "acc = model1.evaluate(test_x, test_y)\n",
        "print(\"Loss:\", acc[0], \" Accuracy:\", acc[1])"
      ],
      "metadata": {
        "id": "LEm7GOBukguG",
        "colab": {
          "base_uri": "https://localhost:8080/"
        },
        "outputId": "169fb064-4999-447a-f2df-07994b0b37f6"
      },
      "execution_count": 43,
      "outputs": [
        {
          "output_type": "stream",
          "name": "stdout",
          "text": [
            "133/133 [==============================] - 0s 1ms/step - loss: 0.1781 - accuracy: 0.9344\n",
            "Loss: 0.17807351052761078  Accuracy: 0.934368371963501\n"
          ]
        }
      ]
    },
    {
      "cell_type": "code",
      "source": [
        "print(model1.predict(sc.transform([[1.36, 11.33, 0.04, 2.96, 0.001, 7.23, 0.03, 1.66, 1.08, 0.71, 0.71, 0.016,1.41,1.29,0.004,9.12,1.72,0.02,0.45,0.05]])) > 0.5)"
      ],
      "metadata": {
        "colab": {
          "base_uri": "https://localhost:8080/"
        },
        "id": "lpZ9Xttwhx3S",
        "outputId": "37cd986e-0d24-4f7b-adcd-d64d6eefdc7e"
      },
      "execution_count": 44,
      "outputs": [
        {
          "output_type": "stream",
          "name": "stdout",
          "text": [
            "1/1 [==============================] - 0s 62ms/step\n",
            "[[ True]]\n"
          ]
        },
        {
          "output_type": "stream",
          "name": "stderr",
          "text": [
            "/usr/local/lib/python3.10/dist-packages/sklearn/base.py:439: UserWarning: X does not have valid feature names, but StandardScaler was fitted with feature names\n",
            "  warnings.warn(\n"
          ]
        }
      ]
    },
    {
      "cell_type": "markdown",
      "source": [
        "# Predicting the Test set results"
      ],
      "metadata": {
        "id": "KX1krlyognyf"
      }
    },
    {
      "cell_type": "code",
      "source": [
        "yp = model1.predict(test_x)\n",
        "yp = (yp > 0.5)"
      ],
      "metadata": {
        "colab": {
          "base_uri": "https://localhost:8080/"
        },
        "id": "Kfu2e6EGY68M",
        "outputId": "6466f03d-699b-4b1e-cbdc-ddaf64cc3a68"
      },
      "execution_count": 45,
      "outputs": [
        {
          "output_type": "stream",
          "name": "stdout",
          "text": [
            "133/133 [==============================] - 0s 1ms/step\n"
          ]
        }
      ]
    },
    {
      "cell_type": "markdown",
      "source": [
        "# Making the Confusion Matrix"
      ],
      "metadata": {
        "id": "S7EKifTmT26w"
      }
    },
    {
      "cell_type": "code",
      "source": [
        "print(classification_report(test_y, yp))"
      ],
      "metadata": {
        "id": "ATWiIx1lkgjA",
        "colab": {
          "base_uri": "https://localhost:8080/"
        },
        "outputId": "70b478ea-ad38-4424-c66a-166301b8da9c"
      },
      "execution_count": 46,
      "outputs": [
        {
          "output_type": "stream",
          "name": "stdout",
          "text": [
            "              precision    recall  f1-score   support\n",
            "\n",
            "           0       0.93      0.94      0.94      2146\n",
            "           1       0.94      0.93      0.93      2105\n",
            "\n",
            "    accuracy                           0.93      4251\n",
            "   macro avg       0.93      0.93      0.93      4251\n",
            "weighted avg       0.93      0.93      0.93      4251\n",
            "\n"
          ]
        }
      ]
    },
    {
      "cell_type": "code",
      "source": [
        "from sklearn.metrics import confusion_matrix, accuracy_score\n",
        "cm1 = confusion_matrix(test_y, yp)\n",
        "print(cm1)\n",
        "accuracy_score(test_y, yp)"
      ],
      "metadata": {
        "colab": {
          "base_uri": "https://localhost:8080/"
        },
        "id": "EVXT2OjJh_ls",
        "outputId": "bb132180-bc81-4864-c2ac-0c563cc61cb5"
      },
      "execution_count": 47,
      "outputs": [
        {
          "output_type": "stream",
          "name": "stdout",
          "text": [
            "[[2015  131]\n",
            " [ 148 1957]]\n"
          ]
        },
        {
          "output_type": "execute_result",
          "data": {
            "text/plain": [
              "0.9343683839096684"
            ]
          },
          "metadata": {},
          "execution_count": 47
        }
      ]
    },
    {
      "cell_type": "code",
      "source": [
        "sns.heatmap(cm1,annot=True)"
      ],
      "metadata": {
        "colab": {
          "base_uri": "https://localhost:8080/",
          "height": 449
        },
        "id": "HMXEmCjSiOMo",
        "outputId": "fbebe8cc-db75-4bf7-c316-958c0dc15906"
      },
      "execution_count": 48,
      "outputs": [
        {
          "output_type": "execute_result",
          "data": {
            "text/plain": [
              "<Axes: >"
            ]
          },
          "metadata": {},
          "execution_count": 48
        },
        {
          "output_type": "display_data",
          "data": {
            "text/plain": [
              "<Figure size 640x480 with 2 Axes>"
            ],
            "image/png": "[encoded data removed]"
          },
          "metadata": {}
        }
      ]
    },
    {
      "cell_type": "markdown",
      "source": [
        "# **CNN MODEL 2**"
      ],
      "metadata": {
        "id": "h1FfJc0pSL5P"
      }
    },
    {
      "cell_type": "code",
      "source": [
        "df.head()"
      ],
      "metadata": {
        "colab": {
          "base_uri": "https://localhost:8080/",
          "height": 299
        },
        "id": "e9uLJA98SRlm",
        "outputId": "6a6990a7-a3e9-4c79-a45c-10922d2ea83a"
      },
      "execution_count": 49,
      "outputs": [
        {
          "output_type": "execute_result",
          "data": {
            "text/plain": [
              "   aluminium  ammonia  arsenic  barium  cadmium  chloramine  chromium  copper  \\\n",
              "0       1.65     9.08     0.04    2.85    0.007        0.35      0.83    0.17   \n",
              "1       2.32    21.16     0.01    3.31    0.002        5.28      0.68    0.66   \n",
              "2       1.01    14.02     0.04    0.58    0.008        4.24      0.53    0.02   \n",
              "3       1.36    11.33     0.04    2.96    0.001        7.23      0.03    1.66   \n",
              "4       0.92    24.33     0.03    0.20    0.006        2.67      0.69    0.57   \n",
              "\n",
              "   flouride  bacteria  ...   lead  nitrates  nitrites  mercury  perchlorate  \\\n",
              "0      0.05      0.20  ...  0.054     16.08      1.13    0.007        37.75   \n",
              "1      0.90      0.65  ...  0.100      2.01      1.93    0.003        32.26   \n",
              "2      0.99      0.05  ...  0.078     14.16      1.11    0.006        50.28   \n",
              "3      1.08      0.71  ...  0.016      1.41      1.29    0.004         9.12   \n",
              "4      0.61      0.13  ...  0.117      6.74      1.11    0.003        16.90   \n",
              "\n",
              "   radium  selenium  silver  uranium  is_safe  \n",
              "0    6.78      0.08    0.34     0.02        1  \n",
              "1    3.21      0.08    0.27     0.05        1  \n",
              "2    7.07      0.07    0.44     0.01        0  \n",
              "3    1.72      0.02    0.45     0.05        1  \n",
              "4    2.41      0.02    0.06     0.02        1  \n",
              "\n",
              "[5 rows x 21 columns]"
            ],
            "text/html": [
              "\n",
              "  <div id=\"df-047716de-6400-45af-80c4-989af340bbc4\">\n",
              "    <div class=\"colab-df-container\">\n",
              "      <div>\n",
              "<style scoped>\n",
              "    .dataframe tbody tr th:only-of-type {\n",
              "        vertical-align: middle;\n",
              "    }\n",
              "\n",
              "    .dataframe tbody tr th {\n",
              "        vertical-align: top;\n",
              "    }\n",
              "\n",
              "    .dataframe thead th {\n",
              "        text-align: right;\n",
              "    }\n",
              "</style>\n",
              "<table border=\"1\" class=\"dataframe\">\n",
              "  <thead>\n",
              "    <tr style=\"text-align: right;\">\n",
              "      <th></th>\n",
              "      <th>aluminium</th>\n",
              "      <th>ammonia</th>\n",
              "      <th>arsenic</th>\n",
              "      <th>barium</th>\n",
              "      <th>cadmium</th>\n",
              "      <th>chloramine</th>\n",
              "      <th>chromium</th>\n",
              "      <th>copper</th>\n",
              "      <th>flouride</th>\n",
              "      <th>bacteria</th>\n",
              "      <th>...</th>\n",
              "      <th>lead</th>\n",
              "      <th>nitrates</th>\n",
              "      <th>nitrites</th>\n",
              "      <th>mercury</th>\n",
              "      <th>perchlorate</th>\n",
              "      <th>radium</th>\n",
              "      <th>selenium</th>\n",
              "      <th>silver</th>\n",
              "      <th>uranium</th>\n",
              "      <th>is_safe</th>\n",
              "    </tr>\n",
              "  </thead>\n",
              "  <tbody>\n",
              "    <tr>\n",
              "      <th>0</th>\n",
              "      <td>1.65</td>\n",
              "      <td>9.08</td>\n",
              "      <td>0.04</td>\n",
              "      <td>2.85</td>\n",
              "      <td>0.007</td>\n",
              "      <td>0.35</td>\n",
              "      <td>0.83</td>\n",
              "      <td>0.17</td>\n",
              "      <td>0.05</td>\n",
              "      <td>0.20</td>\n",
              "      <td>...</td>\n",
              "      <td>0.054</td>\n",
              "      <td>16.08</td>\n",
              "      <td>1.13</td>\n",
              "      <td>0.007</td>\n",
              "      <td>37.75</td>\n",
              "      <td>6.78</td>\n",
              "      <td>0.08</td>\n",
              "      <td>0.34</td>\n",
              "      <td>0.02</td>\n",
              "      <td>1</td>\n",
              "    </tr>\n",
              "    <tr>\n",
              "      <th>1</th>\n",
              "      <td>2.32</td>\n",
              "      <td>21.16</td>\n",
              "      <td>0.01</td>\n",
              "      <td>3.31</td>\n",
              "      <td>0.002</td>\n",
              "      <td>5.28</td>\n",
              "      <td>0.68</td>\n",
              "      <td>0.66</td>\n",
              "      <td>0.90</td>\n",
              "      <td>0.65</td>\n",
              "      <td>...</td>\n",
              "      <td>0.100</td>\n",
              "      <td>2.01</td>\n",
              "      <td>1.93</td>\n",
              "      <td>0.003</td>\n",
              "      <td>32.26</td>\n",
              "      <td>3.21</td>\n",
              "      <td>0.08</td>\n",
              "      <td>0.27</td>\n",
              "      <td>0.05</td>\n",
              "      <td>1</td>\n",
              "    </tr>\n",
              "    <tr>\n",
              "      <th>2</th>\n",
              "      <td>1.01</td>\n",
              "      <td>14.02</td>\n",
              "      <td>0.04</td>\n",
              "      <td>0.58</td>\n",
              "      <td>0.008</td>\n",
              "      <td>4.24</td>\n",
              "      <td>0.53</td>\n",
              "      <td>0.02</td>\n",
              "      <td>0.99</td>\n",
              "      <td>0.05</td>\n",
              "      <td>...</td>\n",
              "      <td>0.078</td>\n",
              "      <td>14.16</td>\n",
              "      <td>1.11</td>\n",
              "      <td>0.006</td>\n",
              "      <td>50.28</td>\n",
              "      <td>7.07</td>\n",
              "      <td>0.07</td>\n",
              "      <td>0.44</td>\n",
              "      <td>0.01</td>\n",
              "      <td>0</td>\n",
              "    </tr>\n",
              "    <tr>\n",
              "      <th>3</th>\n",
              "      <td>1.36</td>\n",
              "      <td>11.33</td>\n",
              "      <td>0.04</td>\n",
              "      <td>2.96</td>\n",
              "      <td>0.001</td>\n",
              "      <td>7.23</td>\n",
              "      <td>0.03</td>\n",
              "      <td>1.66</td>\n",
              "      <td>1.08</td>\n",
              "      <td>0.71</td>\n",
              "      <td>...</td>\n",
              "      <td>0.016</td>\n",
              "      <td>1.41</td>\n",
              "      <td>1.29</td>\n",
              "      <td>0.004</td>\n",
              "      <td>9.12</td>\n",
              "      <td>1.72</td>\n",
              "      <td>0.02</td>\n",
              "      <td>0.45</td>\n",
              "      <td>0.05</td>\n",
              "      <td>1</td>\n",
              "    </tr>\n",
              "    <tr>\n",
              "      <th>4</th>\n",
              "      <td>0.92</td>\n",
              "      <td>24.33</td>\n",
              "      <td>0.03</td>\n",
              "      <td>0.20</td>\n",
              "      <td>0.006</td>\n",
              "      <td>2.67</td>\n",
              "      <td>0.69</td>\n",
              "      <td>0.57</td>\n",
              "      <td>0.61</td>\n",
              "      <td>0.13</td>\n",
              "      <td>...</td>\n",
              "      <td>0.117</td>\n",
              "      <td>6.74</td>\n",
              "      <td>1.11</td>\n",
              "      <td>0.003</td>\n",
              "      <td>16.90</td>\n",
              "      <td>2.41</td>\n",
              "      <td>0.02</td>\n",
              "      <td>0.06</td>\n",
              "      <td>0.02</td>\n",
              "      <td>1</td>\n",
              "    </tr>\n",
              "  </tbody>\n",
              "</table>\n",
              "<p>5 rows × 21 columns</p>\n",
              "</div>\n",
              "      <button class=\"colab-df-convert\" onclick=\"convertToInteractive('df-047716de-6400-45af-80c4-989af340bbc4')\"\n",
              "              title=\"Convert this dataframe to an interactive table.\"\n",
              "              style=\"display:none;\">\n",
              "        \n",
              "  <svg xmlns=\"http://www.w3.org/2000/svg\" height=\"24px\"viewBox=\"0 0 24 24\"\n",
              "       width=\"24px\">\n",
              "    <path d=\"M0 0h24v24H0V0z\" fill=\"none\"/>\n",
              "    <path d=\"M18.56 5.44l.94 2.06.94-2.06 2.06-.94-2.06-.94-.94-2.06-.94 2.06-2.06.94zm-11 1L8.5 8.5l.94-2.06 2.06-.94-2.06-.94L8.5 2.5l-.94 2.06-2.06.94zm10 10l.94 2.06.94-2.06 2.06-.94-2.06-.94-.94-2.06-.94 2.06-2.06.94z\"/><path d=\"M17.41 7.96l-1.37-1.37c-.4-.4-.92-.59-1.43-.59-.52 0-1.04.2-1.43.59L10.3 9.45l-7.72 7.72c-.78.78-.78 2.05 0 2.83L4 21.41c.39.39.9.59 1.41.59.51 0 1.02-.2 1.41-.59l7.78-7.78 2.81-2.81c.8-.78.8-2.07 0-2.86zM5.41 20L4 18.59l7.72-7.72 1.47 1.35L5.41 20z\"/>\n",
              "  </svg>\n",
              "      </button>\n",
              "      \n",
              "  <style>\n",
              "    .colab-df-container {\n",
              "      display:flex;\n",
              "      flex-wrap:wrap;\n",
              "      gap: 12px;\n",
              "    }\n",
              "\n",
              "    .colab-df-convert {\n",
              "      background-color: #E8F0FE;\n",
              "      border: none;\n",
              "      border-radius: 50%;\n",
              "      cursor: pointer;\n",
              "      display: none;\n",
              "      fill: #1967D2;\n",
              "      height: 32px;\n",
              "      padding: 0 0 0 0;\n",
              "      width: 32px;\n",
              "    }\n",
              "\n",
              "    .colab-df-convert:hover {\n",
              "      background-color: #E2EBFA;\n",
              "      box-shadow: 0px 1px 2px rgba(60, 64, 67, 0.3), 0px 1px 3px 1px rgba(60, 64, 67, 0.15);\n",
              "      fill: #174EA6;\n",
              "    }\n",
              "\n",
              "    [theme=dark] .colab-df-convert {\n",
              "      background-color: #3B4455;\n",
              "      fill: #D2E3FC;\n",
              "    }\n",
              "\n",
              "    [theme=dark] .colab-df-convert:hover {\n",
              "      background-color: #434B5C;\n",
              "      box-shadow: 0px 1px 3px 1px rgba(0, 0, 0, 0.15);\n",
              "      filter: drop-shadow(0px 1px 2px rgba(0, 0, 0, 0.3));\n",
              "      fill: #FFFFFF;\n",
              "    }\n",
              "  </style>\n",
              "\n",
              "      <script>\n",
              "        const buttonEl =\n",
              "          document.querySelector('#df-047716de-6400-45af-80c4-989af340bbc4 button.colab-df-convert');\n",
              "        buttonEl.style.display =\n",
              "          google.colab.kernel.accessAllowed ? 'block' : 'none';\n",
              "\n",
              "        async function convertToInteractive(key) {\n",
              "          const element = document.querySelector('#df-047716de-6400-45af-80c4-989af340bbc4');\n",
              "          const dataTable =\n",
              "            await google.colab.kernel.invokeFunction('convertToInteractive',\n",
              "                                                     [key], {});\n",
              "          if (!dataTable) return;\n",
              "\n",
              "          const docLinkHtml = 'Like what you see? Visit the ' +\n",
              "            '<a target=\"_blank\" href=https://colab.research.google.com/notebooks/data_table.ipynb>data table notebook</a>'\n",
              "            + ' to learn more about interactive tables.';\n",
              "          element.innerHTML = '';\n",
              "          dataTable['output_type'] = 'display_data';\n",
              "          await google.colab.output.renderOutput(dataTable, element);\n",
              "          const docLink = document.createElement('div');\n",
              "          docLink.innerHTML = docLinkHtml;\n",
              "          element.appendChild(docLink);\n",
              "        }\n",
              "      </script>\n",
              "    </div>\n",
              "  </div>\n",
              "  "
            ]
          },
          "metadata": {},
          "execution_count": 49
        }
      ]
    },
    {
      "cell_type": "code",
      "source": [
        "x = df.drop('is_safe', axis='columns')\n",
        "y = df['is_safe']"
      ],
      "metadata": {
        "id": "2Id3yru9SVUM"
      },
      "execution_count": 50,
      "outputs": []
    },
    {
      "cell_type": "code",
      "source": [
        "x.shape"
      ],
      "metadata": {
        "colab": {
          "base_uri": "https://localhost:8080/"
        },
        "id": "qKi2D3AVSVSL",
        "outputId": "b64f43c7-a1a1-4b60-e3fd-131486b470fe"
      },
      "execution_count": 51,
      "outputs": [
        {
          "output_type": "execute_result",
          "data": {
            "text/plain": [
              "(7996, 20)"
            ]
          },
          "metadata": {},
          "execution_count": 51
        }
      ]
    },
    {
      "cell_type": "code",
      "source": [
        "#Using the SMOTE library to oversample the data by randomly creating data \n",
        "sm = SMOTE(random_state=27)\n",
        "x,y = sm.fit_resample(x,y)"
      ],
      "metadata": {
        "id": "LV3RzB_pSVQT"
      },
      "execution_count": 52,
      "outputs": []
    },
    {
      "cell_type": "code",
      "source": [
        "train_x, test_x, train_y, test_y = train_test_split(x, y, test_size=0.30)"
      ],
      "metadata": {
        "id": "-ga9fcBSSVOf"
      },
      "execution_count": 53,
      "outputs": []
    },
    {
      "cell_type": "code",
      "source": [
        "from sklearn.preprocessing import StandardScaler\n",
        "sc = StandardScaler()\n",
        "train_x = sc.fit_transform(train_x)\n",
        "test_x = sc.transform(test_x)"
      ],
      "metadata": {
        "id": "yxFf-uFUSVMb"
      },
      "execution_count": 54,
      "outputs": []
    },
    {
      "cell_type": "code",
      "source": [
        "# Build the model\n",
        "\n",
        "model2 = Sequential()"
      ],
      "metadata": {
        "id": "i_Db0ZmzSVKW"
      },
      "execution_count": 55,
      "outputs": []
    },
    {
      "cell_type": "markdown",
      "source": [
        "* Sequential(): Creates a Sequential model object.\n",
        "\n",
        "* (Conv1D(32,2, activation=\"relu\", input_shape=(20,1))): Adds a 1D convolutional layer with 32 filters of size 2 and ReLU activation function. \n",
        "\n",
        "* (MaxPooling1D()): Adds a 1D max pooling layer to downsample the output of the convolutional layer.\n",
        "\n",
        "* (Conv1D(64,2, activation=\"relu\", input_shape=(20,1))): Adds another 1D convolutional layer with 64 filters of size 2 and ReLU activation function.\n",
        "\n",
        "* (MaxPooling1D()): Adds another 1D max pooling layer to downsample the output of the second convolutional layer.\n",
        "\n",
        "* (Flatten()): Flattens the output of the previous layer to a 1D array."
      ],
      "metadata": {
        "id": "NbAifa6qUSRe"
      }
    },
    {
      "cell_type": "code",
      "source": [
        "model2 = Sequential()\n",
        "model2.add(Conv1D(32,2, activation=\"relu\", input_shape=(20,1)))\n",
        "model2.add(MaxPooling1D())\n",
        "model2.add(Conv1D(64,2, activation=\"relu\", input_shape=(20,1)))\n",
        "model2.add(MaxPooling1D())\n",
        "model2.add(Flatten())\n",
        "model2.add(Dense(1, kernel_initializer= 'glorot_uniform', activation = 'sigmoid')) # Adds a fully connected layer with a single output node and sigmoid activation function\n",
        "model2.compile(loss = 'binary_crossentropy', \n",
        "     optimizer = \"adam\",               \n",
        "              metrics = ['accuracy']) # Compiles the model with binary cross-entropy loss function, Adam optimizer, and accuracy metric\n",
        "model2.summary() # Prints a summary of the model architecture"
      ],
      "metadata": {
        "colab": {
          "base_uri": "https://localhost:8080/"
        },
        "id": "Q-yannOPSVFj",
        "outputId": "67b41bcc-3663-4edd-ddcc-2a606dd776af"
      },
      "execution_count": 56,
      "outputs": [
        {
          "output_type": "stream",
          "name": "stdout",
          "text": [
            "Model: \"sequential_4\"\n",
            "_________________________________________________________________\n",
            " Layer (type)                Output Shape              Param #   \n",
            "=================================================================\n",
            " conv1d_2 (Conv1D)           (None, 19, 32)            96        \n",
            "                                                                 \n",
            " max_pooling1d_1 (MaxPooling  (None, 9, 32)            0         \n",
            " 1D)                                                             \n",
            "                                                                 \n",
            " conv1d_3 (Conv1D)           (None, 8, 64)             4160      \n",
            "                                                                 \n",
            " max_pooling1d_2 (MaxPooling  (None, 4, 64)            0         \n",
            " 1D)                                                             \n",
            "                                                                 \n",
            " flatten_1 (Flatten)         (None, 256)               0         \n",
            "                                                                 \n",
            " dense_4 (Dense)             (None, 1)                 257       \n",
            "                                                                 \n",
            "=================================================================\n",
            "Total params: 4,513\n",
            "Trainable params: 4,513\n",
            "Non-trainable params: 0\n",
            "_________________________________________________________________\n"
          ]
        }
      ]
    },
    {
      "cell_type": "markdown",
      "source": [
        "* The kernel_initializer parameter is set to '**glorot_uniform**', which is another initialization method for the layer's weights that samples values from a uniform distribution between -limit and limit, where limit is sqrt(6 / (fan_in + fan_out)).\n",
        "* The activation parameter is set to '**sigmoid**', which is the activation function used by the output units of the layer.\n"
      ],
      "metadata": {
        "id": "gjYwtUjau5Ix"
      }
    },
    {
      "cell_type": "code",
      "source": [
        "model2.fit(train_x, train_y, batch_size=16,epochs=100 , verbose=0)"
      ],
      "metadata": {
        "colab": {
          "base_uri": "https://localhost:8080/"
        },
        "id": "7YihVX9WSolL",
        "outputId": "97c95d8b-c9be-4932-b875-14b51088d7ad"
      },
      "execution_count": 57,
      "outputs": [
        {
          "output_type": "execute_result",
          "data": {
            "text/plain": [
              "<keras.callbacks.History at 0x7f0fb56422c0>"
            ]
          },
          "metadata": {},
          "execution_count": 57
        }
      ]
    },
    {
      "cell_type": "code",
      "source": [
        "acc = model2.evaluate(test_x, test_y)\n",
        "print(\"Loss:\", acc[0], \" Accuracy:\", acc[1])"
      ],
      "metadata": {
        "colab": {
          "base_uri": "https://localhost:8080/"
        },
        "id": "rAo3S0VUSoht",
        "outputId": "e5af71db-ce0b-4107-e146-3473d5da6f04"
      },
      "execution_count": 58,
      "outputs": [
        {
          "output_type": "stream",
          "name": "stdout",
          "text": [
            "133/133 [==============================] - 0s 1ms/step - loss: 0.2276 - accuracy: 0.9130\n",
            "Loss: 0.22755421698093414  Accuracy: 0.9129616618156433\n"
          ]
        }
      ]
    },
    {
      "cell_type": "code",
      "source": [
        "print(model2.predict(sc.transform([[1.36, 11.33, 0.04, 2.96, 0.001, 7.23, 0.03, 1.66, 1.08, 0.71, 0.71, 0.016,1.41,1.29,0.004,9.12,1.72,0.02,0.45,0.05]])) > 0.5)"
      ],
      "metadata": {
        "colab": {
          "base_uri": "https://localhost:8080/"
        },
        "id": "l416yYB4Sof_",
        "outputId": "6e3299d9-16b2-404c-e037-ee932d44d1db"
      },
      "execution_count": 59,
      "outputs": [
        {
          "output_type": "stream",
          "name": "stdout",
          "text": [
            "1/1 [==============================] - 0s 66ms/step\n",
            "[[ True]]\n"
          ]
        },
        {
          "output_type": "stream",
          "name": "stderr",
          "text": [
            "/usr/local/lib/python3.10/dist-packages/sklearn/base.py:439: UserWarning: X does not have valid feature names, but StandardScaler was fitted with feature names\n",
            "  warnings.warn(\n"
          ]
        }
      ]
    },
    {
      "cell_type": "markdown",
      "source": [
        "# Predicting the Test set results"
      ],
      "metadata": {
        "id": "e_OveiDxgrEV"
      }
    },
    {
      "cell_type": "code",
      "source": [
        "yp = model2.predict(test_x)\n",
        "yp = (yp > 0.5)"
      ],
      "metadata": {
        "colab": {
          "base_uri": "https://localhost:8080/"
        },
        "id": "Pe5vrLlTSoec",
        "outputId": "7f90167b-bfcf-4d05-c6e7-d49a7933e159"
      },
      "execution_count": 60,
      "outputs": [
        {
          "output_type": "stream",
          "name": "stdout",
          "text": [
            "133/133 [==============================] - 0s 1ms/step\n"
          ]
        }
      ]
    },
    {
      "cell_type": "markdown",
      "source": [
        "# Making the Confusion Matrix"
      ],
      "metadata": {
        "id": "OdiN4B5gvSE4"
      }
    },
    {
      "cell_type": "code",
      "source": [
        "print(classification_report(test_y, yp))"
      ],
      "metadata": {
        "colab": {
          "base_uri": "https://localhost:8080/"
        },
        "id": "6eAGjVS2Sob_",
        "outputId": "43275c3b-a872-41ab-fb75-880b4d292010"
      },
      "execution_count": 61,
      "outputs": [
        {
          "output_type": "stream",
          "name": "stdout",
          "text": [
            "              precision    recall  f1-score   support\n",
            "\n",
            "           0       0.88      0.96      0.92      2150\n",
            "           1       0.96      0.86      0.91      2101\n",
            "\n",
            "    accuracy                           0.91      4251\n",
            "   macro avg       0.92      0.91      0.91      4251\n",
            "weighted avg       0.92      0.91      0.91      4251\n",
            "\n"
          ]
        }
      ]
    },
    {
      "cell_type": "code",
      "source": [
        "from sklearn.metrics import confusion_matrix, accuracy_score\n",
        "cm2 = confusion_matrix(test_y, yp)\n",
        "print(cm2)\n",
        "accuracy_score(test_y, yp)"
      ],
      "metadata": {
        "colab": {
          "base_uri": "https://localhost:8080/"
        },
        "id": "sB2rU6GDSoZu",
        "outputId": "03507099-8993-4a3a-9ec4-7933be05d164"
      },
      "execution_count": 62,
      "outputs": [
        {
          "output_type": "stream",
          "name": "stdout",
          "text": [
            "[[2066   84]\n",
            " [ 286 1815]]\n"
          ]
        },
        {
          "output_type": "execute_result",
          "data": {
            "text/plain": [
              "0.9129616560809222"
            ]
          },
          "metadata": {},
          "execution_count": 62
        }
      ]
    },
    {
      "cell_type": "code",
      "source": [
        "sns.heatmap(cm2,annot=True)"
      ],
      "metadata": {
        "colab": {
          "base_uri": "https://localhost:8080/",
          "height": 447
        },
        "id": "RM54QTv-SoXC",
        "outputId": "21f83aa4-a083-4d8d-b810-71e158ab2807"
      },
      "execution_count": 63,
      "outputs": [
        {
          "output_type": "execute_result",
          "data": {
            "text/plain": [
              "<Axes: >"
            ]
          },
          "metadata": {},
          "execution_count": 63
        },
        {
          "output_type": "display_data",
          "data": {
            "text/plain": [
              "<Figure size 640x480 with 2 Axes>"
            ],
            "image/png": "[encoded data removed]"
          },
          "metadata": {}
        }
      ]
    },
    {
      "cell_type": "markdown",
      "source": [
        "**Strengths**:\n",
        "\n",
        "* CNNs can detect spatial and temporal patterns in water quality data.\n",
        "* CNNs can handle large datasets and high-dimensional input data.\n",
        "* They're suitable for real-world applications because they're noise-tolerant and can generalise well.\n",
        "* CNNs learn features from data and predict water quality accurately.\n",
        "\n",
        "**Weaknesses**:\n",
        "\n",
        "* CNNs need a lot of data to learn complex patterns, which can be hard to get.\n",
        "* If the model is too complex or there is not enough training data, they can overfit the data and perform poorly on new data.\n",
        "* CNNs require expensive hardware to train.\n",
        "* CNNs have many computation layers, making it hard to understand how the model made a prediction."
      ],
      "metadata": {
        "id": "YaOPvf0vxqz5"
      }
    },
    {
      "cell_type": "markdown",
      "source": [
        "# **CONCLUSION**\n",
        "\n",
        "In conclusion, Artificial Neural Network (ANN) models as well as Convolutional Neural Network (CNN) models are both viable options for the classification of water quality. The ANN is a flexible model that can deal with many different sorts of inputs, and it has been effectively used to tasks involving the prediction of water quality. When working with relational datasets, it is a viable solution that, with the appropriate adjustment of the hyperparameters, is capable of achieving high levels of accuracy. However, in order to understand complicated patterns, it may require a significant quantity of data and suffer from the problem of overfitting.\n",
        "\n",
        "On the other hand, CNN is a powerful model that is capable of capturing spatial as well as temporal patterns in the data, which makes it well-suited for both image and time-series data. CNN has achieved a level of performance that is considered to be state-of-the-art in a variety of computer vision applications and can be used to detect changes in the images of water quality. However, CNN may also require a huge quantity of data in order to avoid overfitting, and it may be computationally expensive to do so.\n",
        "\n",
        "In a nutshell, the decision between an ANN model and a CNN model is determined by the kind of data and the particular problem that needs to be solved. Both of these models have their own advantages and disadvantages, and it is essential to choose the proper model and optimise its hyperparameters in order to get a satisfactory level of performance.\n"
      ],
      "metadata": {
        "id": "Wurdy-atzp-S"
      }
    },
    {
      "cell_type": "markdown",
      "source": [
        "# **Bibliography**\n",
        "\n",
        "\n",
        "\n",
        "*   Machine learning with PyTorch and Scikit-Learn : develop machine learning and deep learning models with Python, Authors: Raschka and Sebastian, 2022.\n",
        "*   Introduction to Artificial Neural Network (ANN) Methods:\n",
        "What They Are and How to Use Them, Author: Jure Zupan, 1994.\n",
        "* Understanding of a convolutional neural network, Authors: \n",
        "Saad Albawi, Tareq Abed Mohammed and Saad Al-Zawi, 2017.\n",
        "* Udemy Course: Deep Learning A-Z™ 2023: Neural Networks, AI & ChatGPT Bonus, link: https://www.udemy.com/course/deeplearning/.\n",
        "* Moodle Page: https://elearning.dbs.ie/course/view.php?id=17405, B9AI104 Deep Learning.\n",
        "* Dataset from Kaggle Site: https://www.kaggle.com/datasets/mssmartypants/water-quality\n",
        "* Github Site: https://github.com/AaronWard/Churn-Modelling-Artificial-Neural-Network/blob/master/ann.py\n",
        "\n",
        "\n",
        "\n",
        "\n"
      ],
      "metadata": {
        "id": "0VDQP7C9064u"
      }
    }
  ],
  "metadata": {
    "colab": {
      "provenance": []
    },
    "kernelspec": {
      "display_name": "Python 3",
      "name": "python3"
    },
    "language_info": {
      "name": "python"
    }
  },
  "nbformat": 4,
  "nbformat_minor": 0
}